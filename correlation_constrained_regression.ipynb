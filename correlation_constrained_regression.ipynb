{
 "cells": [
  {
   "cell_type": "markdown",
   "metadata": {},
   "source": [
    "<a id=\"top\"></a>\n",
    "\n",
    "# Correlation constrained regression\n",
    "\n",
    "- [Simulated data](#simulated)\n",
    "    - [Regression and data models](#regression_models)\n",
    "    - [Illustrate ADC in simulated data](#simulated)\n",
    "    - [Response-residual correlation in ridge regression](#rr_correlation_ridge)\n",
    "    - [Illustrate bias](#illustrate_bias)\n",
    "- [PAC2019 competition data](#pac2019)\n",
    "    - [Loda PAC2019 data](#load_pac2019)\n",
    "    - [Analyze PAC2019 data](#analyze_pac2019)    \n",
    "    - [PAC2019 results](#results_pac2019)    \n",
    "- [Other/old stuff](#other)\n",
    "    - [Statsmodels](#statsmodels)\n",
    "    - [Check derivation for inequality constraint](#calc_inequality)\n",
    "    - [Iris example data](#iris_example)\n"
   ]
  },
  {
   "cell_type": "code",
   "execution_count": 1,
   "metadata": {},
   "outputs": [],
   "source": [
    "import scipy, sys\n",
    "import statsmodels.api as sm\n",
    "import matplotlib.pyplot as plt\n",
    "import numpy as np\n",
    "import pandas as pd\n",
    "import seaborn as sns\n",
    "import sklearn, sklearn.datasets\n",
    "\n",
    "from numpy.linalg import inv\n",
    "import scipy\n",
    "from scipy.spatial.distance import pdist, squareform\n",
    "\n",
    "sys.path.append('/Users/matthiastreder/mt03/python_tools')\n",
    "import file_tools as ft"
   ]
  },
  {
   "cell_type": "code",
   "execution_count": 2,
   "metadata": {},
   "outputs": [
    {
     "data": {
      "text/plain": [
       "<module 'correlation_constrained_regression' from '/Users/matthiastreder/git/mt03/scripts/ML/correlation_constrained_regression/correlation_constrained_regression.py'>"
      ]
     },
     "execution_count": 2,
     "metadata": {},
     "output_type": "execute_result"
    }
   ],
   "source": [
    "import correlation_constrained_regression as ccr\n",
    "\n",
    "# If you need to reload packages...\n",
    "from importlib import reload  # Python 3.4+ only.\n",
    "reload(ccr)"
   ]
  },
  {
   "cell_type": "code",
   "execution_count": 3,
   "metadata": {},
   "outputs": [],
   "source": [
    "figdir = '/Users/matthiastreder/git/correlation_constrained_regression/figures/'\n",
    "resultsdir = '/Users/matthiastreder/data/pac2019/results/'"
   ]
  },
  {
   "cell_type": "markdown",
   "metadata": {},
   "source": [
    "<a id=\"simulated\"></a>\n",
    "# Simulated data\n",
    "[back to top](#top)"
   ]
  },
  {
   "cell_type": "markdown",
   "metadata": {},
   "source": [
    "<a id=\"regression_models\"></a>\n",
    "### Regression models\n",
    "[back to top](#top)"
   ]
  },
  {
   "cell_type": "code",
   "execution_count": null,
   "metadata": {},
   "outputs": [],
   "source": [
    "def I(n):\n",
    "    '''Identity matrix for ridge regularization with intercept (element (0,0) has to be 0 not 1)'''\n",
    "    i = np.eye(n)\n",
    "    i[0,0] = 0\n",
    "    return i"
   ]
  },
  {
   "cell_type": "code",
   "execution_count": null,
   "metadata": {},
   "outputs": [],
   "source": [
    "def rbf_kernel(X, gamma=1):\n",
    "    '''Evaluates the RBF kernel for all pairs of rows in X'''\n",
    "    return np.exp(-gamma * squareform(pdist(X.T, 'sqeuclidean')));"
   ]
  },
  {
   "cell_type": "code",
   "execution_count": null,
   "metadata": {},
   "outputs": [],
   "source": [
    "def OLS_solution(y, X):\n",
    "    '''Given responses y and predictor matrix X, calculates \n",
    "    the the predictions :yhat:, :beta:, and hat matrix :H: for\n",
    "    the OLS model\n",
    "    '''\n",
    "    H = X @ inv(X.T@X) @ X.T \n",
    "    beta = inv(X.T@X) @ X.T @ y\n",
    "    yhat = H@y\n",
    "    return yhat, beta, H\n",
    "\n",
    "def ridge_solution(y, X, l=1, use_intercept=False):\n",
    "    '''Given responses y, predictor matrix X, and \n",
    "    regularization value l, calculates \n",
    "    the the predictions :yhat:, :beta:, and hat matrix :H:\n",
    "    for the ridge model\n",
    "    '''\n",
    "    I = l*np.eye(X.shape[1])\n",
    "    if use_intercept: I[0,0] = 0\n",
    "    H = X @ inv(X.T@X + l*I) @ X.T \n",
    "    beta = inv(X.T@X + l*I) @ X.T @ y\n",
    "    yhat = H@y\n",
    "    return yhat, beta, H\n",
    "\n",
    "def kernel_ridge_solution(y, X, l=1, gamma=1):\n",
    "    '''Given responses y, predictor matrix X, and \n",
    "    regularization value l, and gamma parameter\n",
    "    calculate the kernel ridge solution for the RBF kernel\n",
    "    '''\n",
    "    K = rbf_kernel(X.T, gamma)\n",
    "    H = K @ inv(K + l*np.eye(X.shape[0]))\n",
    "    yhat = H @ y\n",
    "    return yhat, K, H"
   ]
  },
  {
   "cell_type": "code",
   "execution_count": null,
   "metadata": {},
   "outputs": [],
   "source": [
    "def simulate_OLS_data(N=50, sigma=5, noise_type=np.random.normal):\n",
    "    '''Simulates regression data using the generative model \n",
    "    y = b0 + x1*b1 + x2*b2 + sigma * eps\n",
    "    \n",
    "    x1,x2 are drawn from a uniform distribution\n",
    "    b0,b1,b2 are fixed beta coefficients\n",
    "    eps is N(0,1) normally distributed noise\n",
    "    \n",
    "    Arguments:\n",
    "    N       - number of data points\n",
    "    sigma   - standard deviation of eps\n",
    "    noise_type - set to np.random.uniform to have uniform not normal noise\n",
    "    '''\n",
    "\n",
    "    # simulate two predictors\n",
    "    X = np.random.uniform(size=(N,2))\n",
    "    X = sm.add_constant(X)\n",
    "\n",
    "    # simulate ground truth beta's\n",
    "    true_beta = np.array([20, 30, 30])  # this assures the resultant data is boxed in between 20-80\n",
    "\n",
    "    # simulate ages for different noise levels\n",
    "    noise = noise_type(0, 1, N)\n",
    "    if isinstance(sigma, (list,tuple)):\n",
    "        y = [X @ true_beta + sigma*noise for sigma in sigmas] \n",
    "    else:\n",
    "        y = X @ true_beta + sigma*noise\n",
    "\n",
    "#     print(y[0].shape, X.shape)\n",
    "    return y, X, noise\n",
    "\n",
    "    # simulate quadratic and sinusoidal data\n",
    "#     y_sim.append(-(np.power(X_sim[:,:-1]*10-2.5,2)) @ beta_sim[:-1] + 5*noise + 100)\n",
    "    # y_sim.append(-(np.sqrt(X_sim[:,:-1])) @ beta_sim[:-1] + 50*noise + 100)\n",
    "#     y_sim.append(np.sin(X_sim*np.pi*4) * np.pi @ np.array([1,0,1]) + 60)"
   ]
  },
  {
   "cell_type": "code",
   "execution_count": null,
   "metadata": {},
   "outputs": [],
   "source": [
    "def simulate_predictor_noise_data(N=50, sigma=5, noise_type=np.random.normal):\n",
    "    '''Simulates regression data but assumes noise on X (not on y)\n",
    "    y = b0 + x1*b1 + x2*b2\n",
    "    but only noisy x + eps is observed\n",
    "    \n",
    "    x1,x2 are drawn from a uniform distribution\n",
    "    b0,b1,b2 are fixed beta coefficients\n",
    "    eps is N(0,1) normally distributed noise\n",
    "    \n",
    "    Arguments:\n",
    "    N       - number of data points\n",
    "    sigma   - standard deviation of eps\n",
    "    noise_type - set to np.random.uniform to have uniform not normal noise\n",
    "    '''\n",
    "\n",
    "    # simulate two predictors\n",
    "    X = np.random.uniform(size=(N,2))\n",
    "\n",
    "    # simulate ground truth beta's\n",
    "    true_beta = np.array([20, 30, 30])  # this assures the resultant data is boxed in between 20-80\n",
    "\n",
    "    # simulate ages for different noise levels\n",
    "    noise = noise_type(0, 1, 2*N).reshape(N,2)\n",
    "    y = X @ true_beta[1:] + true_beta[0]\n",
    "    if isinstance(sigma, (list,tuple)):\n",
    "        X0 = [X + sigma*noise for sigma in sigmas] \n",
    "    else:\n",
    "        X0 = X + sigma*noise\n",
    "\n",
    "    return y, X0, noise"
   ]
  },
  {
   "cell_type": "code",
   "execution_count": null,
   "metadata": {},
   "outputs": [],
   "source": [
    "def calculate_ADC(y, yhat):\n",
    "    '''Calculate target-residual correlation (ADC)'''\n",
    "    return np.corrcoef(y, yhat-y)[0,1]"
   ]
  },
  {
   "cell_type": "markdown",
   "metadata": {},
   "source": [
    "<a id=\"simulated\"></a>\n",
    "# Illustrate ADC in simulated data\n",
    "[back to top](#top)\n",
    "\n",
    "Illustrate the effect that age-delta correlation (ADC) can have. Here we simulate ages from 20-80 as responses. The true model is a linear regression model with two predictors that are weakly correlated with y. \n",
    "\n",
    "We can see that young ages tend to be overpredicted vs elderly tend to be underpredicted."
   ]
  },
  {
   "cell_type": "code",
   "execution_count": null,
   "metadata": {},
   "outputs": [],
   "source": [
    "# generate Gaussian regression data\n",
    "def generate_gaussian_data(n_samples = 1000, n_features = 1, random_state=42):\n",
    "    n_informative = np.ceil(n_features / 2)\n",
    "    X, y, coef = sklearn.datasets.make_regression(n_samples=n_samples, n_features=n_features,\n",
    "                                          n_informative=1, noise=10, bias = 5, \n",
    "                                          coef=True, random_state=random_state)\n",
    "    return X, y\n",
    "\n",
    "X, y = generate_gaussian_data()"
   ]
  },
  {
   "cell_type": "code",
   "execution_count": null,
   "metadata": {},
   "outputs": [],
   "source": [
    "# generate sinusoidal data for kernel ridge\n",
    "def generate_sinosoidal_data(n_samples = 1000, slope=None, random_state=3):\n",
    "\n",
    "    np.random.seed(random_state)\n",
    "    X_sin = np.linspace(0, 15, num=n_samples).reshape(-1,1)\n",
    "    slope = (np.random.rand()-.5)*.1\n",
    "    y_sin = (np.sin(X_sin) + slope*X_sin**2 + 0.1*np.random.randn(X_sin.shape[0], 1))[:,0]\n",
    "    \n",
    "    return X_sin, y_sin\n",
    "\n",
    "X_sin, y_sin = generate_sinosoidal_data(slope=0.01)\n",
    "plt.plot(X_sin, y_sin)"
   ]
  },
  {
   "cell_type": "code",
   "execution_count": null,
   "metadata": {},
   "outputs": [],
   "source": [
    "# fit models -- LinearRegression\n",
    "reg_OLS = sklearn.linear_model.LinearRegression().fit(X, y)\n",
    "# reg_zero = ccr.LinearRegression(correlation_bound=0).fit(X, y)\n",
    "# reg_bounded = ccr.LinearRegression(correlation_bound=0.2).fit(X, y)"
   ]
  },
  {
   "cell_type": "code",
   "execution_count": null,
   "metadata": {},
   "outputs": [],
   "source": [
    "# fit models -- Ridge\n",
    "alpha = 1000\n",
    "reg_Ridge = sklearn.linear_model.Ridge(alpha=alpha).fit(X, y)\n",
    "# reg_zero = ccr.Ridge(correlation_bound=0, alpha=alpha).fit(X, y)\n",
    "# reg_bounded = ccr.Ridge(correlation_bound=0.2, alpha=alpha).fit(X, y)"
   ]
  },
  {
   "cell_type": "code",
   "execution_count": null,
   "metadata": {},
   "outputs": [],
   "source": [
    "# fit models -- KernelRidge\n",
    "alpha, kernel = 1, 'rbf'\n",
    "reg_KR1 = sklearn.kernel_ridge.KernelRidge(alpha=alpha*0.1, kernel=kernel, gamma=1).fit(X_sin, y_sin)\n",
    "reg_KR2 = sklearn.kernel_ridge.KernelRidge(alpha=alpha*10, kernel=kernel, gamma=1).fit(X_sin, y_sin)\n",
    "# reg_zero = ccr.KernelRidge(correlation_bound=0, alpha=alpha, kernel=kernel).fit(X_sin, y_sin)\n",
    "# reg_bounded = ccr.KernelRidge(correlation_bound=0.2, alpha=alpha, kernel=kernel).fit(X_sin, y_sin)"
   ]
  },
  {
   "cell_type": "code",
   "execution_count": null,
   "metadata": {},
   "outputs": [],
   "source": [
    "def plot_regression_line_1d(coef, intercept, xl, opt='r-'):\n",
    "    x = np.array(xl)  \n",
    "    y = x * coef + intercept\n",
    "    plt.plot(x, y, opt)"
   ]
  },
  {
   "cell_type": "code",
   "execution_count": null,
   "metadata": {},
   "outputs": [],
   "source": [
    "Xvec = np.squeeze(X)\n",
    "Xvec_sin = np.squeeze(X_sin)\n",
    "\n",
    "deltalab = 'Brain age delta'\n",
    "xlab = 'Brain data'\n",
    "ylab = 'Chronological age'\n",
    "\n",
    "df_OLS = pd.DataFrame({xlab:Xvec, ylab:y, 'yhat':reg_OLS.predict(X), 'Residual': y-reg_OLS.predict(X), deltalab:reg_OLS.predict(X)-y})\n",
    "df_Ridge = pd.DataFrame({xlab:Xvec, ylab:y, 'yhat':reg_Ridge.predict(X), 'Residual': y-reg_Ridge.predict(X), deltalab:reg_Ridge.predict(X)-y})\n",
    "df_KR1 = pd.DataFrame({xlab:Xvec_sin, ylab:y_sin, 'yhat':reg_KR1.predict(X), 'Residual': y_sin-reg_KR1.predict(X_sin), deltalab:reg_KR1.predict(X_sin)-y_sin})\n",
    "df_KR2 = pd.DataFrame({xlab:Xvec_sin, ylab:y_sin, 'yhat':reg_KR2.predict(X), 'Residual': y_sin-reg_KR2.predict(X_sin), deltalab:reg_KR2.predict(X_sin)-y_sin})"
   ]
  },
  {
   "cell_type": "code",
   "execution_count": null,
   "metadata": {},
   "outputs": [],
   "source": [
    "# visualization settings \n",
    "\n",
    "# named colors see : https://matplotlib.org/3.3.2/gallery/color/named_colors.html\n",
    "col_dots = (.5,.5,.5)\n",
    "col_xaxis = 'k'\n",
    "\n",
    "col_OLS = 'darkslateblue'\n",
    "col_Ridge = 'darkorange'\n",
    "col_KR1 = 'limegreen'\n",
    "col_KR2 = 'darkgreen'\n",
    "# col_KR1 = 'turquoise'\n",
    "linewidth=3.5\n",
    "\n",
    "x_res_lab, y_res_lab = 'Age', 'Residual'\n",
    "\n",
    "scatter_kws = {'color':'slategrey'}\n",
    "line_kws_OLS = {'color': col_OLS, 'linewidth':linewidth}\n",
    "# line_kws = {'linewidth':2}\n",
    "# line_kws = None\n",
    "line_kws_Ridge = dict(line_kws_OLS)\n",
    "line_kws_KR1 = dict(line_kws_OLS)\n",
    "line_kws_KR2 = dict(line_kws_OLS)\n",
    "line_kws_Ridge['color'] = col_Ridge\n",
    "line_kws_KR1['color'] = col_KR1\n",
    "line_kws_KR2['color'] = col_KR2"
   ]
  },
  {
   "cell_type": "code",
   "execution_count": null,
   "metadata": {
    "scrolled": true
   },
   "outputs": [],
   "source": [
    "aspect, height = 1, 6\n",
    "\n",
    "with sns.plotting_context(\"paper\", font_scale=2):  # notebook paper slides\n",
    "    sns.set_style(\"darkgrid\")\n",
    "    \n",
    "    # scatter and OLS\n",
    "    ax = sns.lmplot(x=xlab, y=ylab, scatter_kws=scatter_kws, line_kws=line_kws_OLS, \\\n",
    "                    data=df_OLS, aspect=aspect, height=height, ci=99)\n",
    "    ax.set_xticklabels(''), ax.set_yticklabels('')\n",
    "    \n",
    "    # plot ridge\n",
    "    plt.plot(X, reg_Ridge.predict(X), color=line_kws_Ridge['color'], linewidth=line_kws_Ridge['linewidth'])\n",
    "    plt.title('OLS and Ridge Regression')\n",
    "\n",
    "    plt.savefig(figdir + 'Fig1_OLS_Ridge.png', dpi=200)"
   ]
  },
  {
   "cell_type": "code",
   "execution_count": null,
   "metadata": {},
   "outputs": [],
   "source": [
    "aspect, height = 1.5, 3\n",
    "xl = [-60, 70]\n",
    "\n",
    "with sns.plotting_context(\"paper\", font_scale=2):  # notebook paper slides\n",
    "    sns.set_style(\"darkgrid\")\n",
    "    \n",
    "    # OLS\n",
    "    ax = sns.lmplot(x=ylab, y=deltalab, scatter_kws=scatter_kws, line_kws=line_kws_OLS, \\\n",
    "                    data=df_OLS, aspect=aspect, height=height, ci=99, n_boot=100)\n",
    "    ax.set_xticklabels(''), ax.set_yticklabels('')\n",
    "    plt.xlabel('')\n",
    "    plt.xlim(xl)\n",
    "    plt.text(plt.xlim()[1], plt.ylim()[1]-10, f'ADC = {calculate_ADC(y, df_OLS[\"yhat\"]):1.2f}', horizontalalignment='right', verticalAlignment='top')\n",
    "    plt.title('Residual plots')\n",
    "    plt.savefig(figdir + 'Fig1_OLS_Ridge_residual1.png', dpi=200)\n",
    "\n",
    "    # Ridge\n",
    "    ax = sns.lmplot(x=ylab, y=deltalab, scatter_kws=scatter_kws, line_kws=line_kws_Ridge,  \\\n",
    "                    data=df_Ridge, aspect=aspect, height=height, ci=99)\n",
    "    ax.set_xticklabels(''), ax.set_yticklabels('')\n",
    "    plt.xlim(xl)\n",
    "    plt.text(plt.xlim()[1], plt.ylim()[1]-10, f'ADC = {calculate_ADC(y, df_Ridge[\"yhat\"]):1.3f}', horizontalalignment='right', verticalAlignment='top')\n",
    "    print(plt.ylim())\n",
    "\n",
    "    plt.savefig(figdir + 'Fig1_OLS_Ridge_residual2.png', dpi=200)\n"
   ]
  },
  {
   "cell_type": "code",
   "execution_count": null,
   "metadata": {
    "scrolled": true
   },
   "outputs": [],
   "source": [
    "aspect, height = 1, 6\n",
    "\n",
    "with sns.plotting_context(\"paper\", font_scale=2):  # notebook paper slides\n",
    "    sns.set_style(\"darkgrid\")\n",
    "    \n",
    "    # scatter and OLS\n",
    "    ax = sns.lmplot(x=xlab, y=ylab, scatter_kws=scatter_kws, fit_reg=False,\\\n",
    "                    data=df_KR1, aspect=aspect, height=height)\n",
    "    ax.set_xticklabels(''), ax.set_yticklabels('')\n",
    "    \n",
    "    # plot ridge\n",
    "    plt.plot(X_sin, reg_KR1.predict(X_sin), color=col_KR1, linewidth=linewidth)\n",
    "    plt.plot(X_sin, reg_KR2.predict(X_sin), color=col_KR2, linewidth=linewidth)\n",
    "    plt.title('Kernel Ridge')\n",
    "\n",
    "    plt.savefig(figdir + 'Fig1_KernelRidge.png', dpi=200)"
   ]
  },
  {
   "cell_type": "code",
   "execution_count": null,
   "metadata": {},
   "outputs": [],
   "source": [
    "aspect, height = 1.5, 3\n",
    "xl = [-1.5, 2.5]\n",
    "\n",
    "with sns.plotting_context(\"paper\", font_scale=2):  # notebook paper slides\n",
    "    sns.set_style(\"darkgrid\")\n",
    "    \n",
    "    # OLS\n",
    "    ax = sns.lmplot(x=ylab, y=deltalab, scatter_kws=scatter_kws, line_kws=line_kws_KR1, \\\n",
    "                    data=df_KR1, aspect=aspect, height=height, ci=99, n_boot=100)\n",
    "    ax.set_xticklabels(''), ax.set_yticklabels('')\n",
    "    plt.xlabel('')\n",
    "    plt.xlim(xl)\n",
    "    plt.ylim([-.5, .5])\n",
    "    plt.text(plt.xlim()[1], plt.ylim()[1]*.9, f'ADC = {calculate_ADC(y_sin, df_KR1[\"yhat\"]):1.2f}', horizontalalignment='right', verticalAlignment='top')\n",
    "    plt.title('Residual plots')\n",
    "    plt.savefig(figdir + 'Fig1_KernelRidge_residual1.png', dpi=200)\n",
    "\n",
    "    # Ridge\n",
    "    ax = sns.lmplot(x=ylab, y=deltalab, scatter_kws=scatter_kws, line_kws=line_kws_KR2,  \\\n",
    "                    data=df_KR2, aspect=aspect, height=height, ci=99)\n",
    "    ax.set_xticklabels(''), ax.set_yticklabels('')\n",
    "    plt.xlim(xl)\n",
    "    plt.ylim([-.5, .5])\n",
    "    plt.text(plt.xlim()[1], plt.ylim()[1]*.9, f'ADC = {calculate_ADC(y_sin, df_KR2[\"yhat\"]):1.3f}', horizontalalignment='right', verticalAlignment='top')\n",
    "    \n",
    "    plt.savefig(figdir + 'Fig1_KernelRidge_residual2.png', dpi=200)\n"
   ]
  },
  {
   "cell_type": "code",
   "execution_count": null,
   "metadata": {
    "scrolled": false
   },
   "outputs": [],
   "source": [
    "# correlation as a function of ridge lambda\n",
    "lambda_vals = np.linspace(0, 1000, 20)\n",
    "ADC = np.zeros((len(lambda_vals), 2))\n",
    "# kernel ridge for different values of gamma \n",
    "for ix, lam in enumerate(lambda_vals):\n",
    "    # ridge \n",
    "    reg_Ridge = sklearn.linear_model.Ridge(alpha=lam).fit(X, y)\n",
    "    reg_KR1 = sklearn.kernel_ridge.KernelRidge(alpha=lam, kernel=kernel, gamma=1).fit(X, y)\n",
    "#     reg_KR2 = sklearn.kernel_ridge.KernelRidge(alpha=alpha*0.1, kernel=kernel, gamma=1).fit(X_sin, y_sin)\n",
    "\n",
    "    ADC[ix, 0] = calculate_ADC(y, reg_Ridge.predict(X))\n",
    "    ADC[ix, 1] = calculate_ADC(y, reg_KR1.predict(X))\n",
    "        \n",
    "\n",
    "with sns.plotting_context(\"paper\", font_scale=2):  # notebook paper slides\n",
    "    sns.set_style(\"darkgrid\")\n",
    "\n",
    "    plt.plot(lambda_vals, ADC[:, 0], color=col_Ridge, marker='o',\\\n",
    "             markersize=12, linewidth=linewidth)\n",
    "    plt.plot(lambda_vals, ADC[:, 1], color=col_KR1, marker='^', \\\n",
    "             markersize=13, linewidth=linewidth)\n",
    "    plt.title(r'Effect of regularization on ADC')\n",
    "    plt.xlabel(r'$\\lambda$'), plt.ylabel('ADC')\n",
    "\n",
    "    plt.savefig(figdir + 'Fig1_ADC_as_function_of_lambda.png', dpi=200)"
   ]
  },
  {
   "cell_type": "code",
   "execution_count": null,
   "metadata": {},
   "outputs": [],
   "source": [
    "reg_OLS.coef_, reg_OLS.intercept_"
   ]
  },
  {
   "cell_type": "code",
   "execution_count": null,
   "metadata": {
    "scrolled": true
   },
   "outputs": [],
   "source": [
    "# ADC for randomly selected beta and intercept\n",
    "n = 100\n",
    "ADC = np.zeros((n, 2))\n",
    "\n",
    "# random regression coefficients\n",
    "beta = 2*(np.random.rand(n)-0.5) * 20\n",
    "intercept = 2*(np.random.rand(n)-0.5) * 10\n",
    "\n",
    "for ix in range(n):\n",
    "    \n",
    "    # generate random data\n",
    "    X, y = generate_gaussian_data(random_state=ix)\n",
    "    X_sin, y_sin = generate_sinosoidal_data(random_state=ix)\n",
    "    \n",
    "    # linear regression\n",
    "    yhat = np.squeeze(X * beta[ix] + intercept[ix]) # gaussian data\n",
    "    yhat_sin = np.squeeze(X_sin * beta[ix] + intercept[ix]) # sinusoidal data\n",
    "#     yhat = X * beta[ix] + intercept[ix] # gaussian data\n",
    "#     yhat_sin = X_sin * beta[ix] + intercept[ix] # sinusoidal data\n",
    "\n",
    "    ADC[ix, 0] = calculate_ADC(y, yhat)\n",
    "    ADC[ix, 1] = calculate_ADC(y, yhat_sin)\n",
    "    \n",
    "df1 = pd.DataFrame({'ADC':ADC[:,0]})\n",
    "df2 = pd.DataFrame({'ADC':ADC[:,1]})\n",
    "\n",
    "df1['dataset'] = 'Gaussian'\n",
    "df2['dataset'] = 'Sinusoidal'\n",
    "\n",
    "df_ADC = pd.concat((df1, df2), axis=0)\n",
    "df_ADC['dataset'] = df_ADC['dataset'].astype('category')\n",
    "\n",
    "pal = sns.color_palette(\"hls\", 5)\n",
    "# pal = sns.color_palette(\"husl\", 2)\n",
    "# \n",
    "\n",
    "with sns.plotting_context(\"paper\", font_scale=2):  # notebook paper slides\n",
    "    sns.set_style(\"darkgrid\")\n",
    "\n",
    "    ax = sns.displot(x='ADC', hue=\"dataset\", kind=\"kde\",rug=False, multiple=\"stack\", linewidth=2, \\\n",
    "                     height=4.5, aspect=1.25, data=df_ADC, legend=False, palette=('palevioletred', 'dodgerblue'))\n",
    "    ax.set_yticklabels('')\n",
    "    plt.xlim([-1, 0])\n",
    "    plt.legend(('Sinusoidal', 'Gaussian'))\n",
    "    plt.title('Distribution of ADC for random models')\n",
    "    plt.savefig(figdir + 'Fig1_ADC_density.png', dpi=200)"
   ]
  },
  {
   "cell_type": "code",
   "execution_count": null,
   "metadata": {},
   "outputs": [],
   "source": [
    "sns.palplot(pal)"
   ]
  },
  {
   "cell_type": "code",
   "execution_count": null,
   "metadata": {
    "scrolled": true
   },
   "outputs": [],
   "source": [
    "from sklearn.model_selection import train_test_split\n",
    "# ADC for randomly selected beta and intercept\n",
    "n = 100\n",
    "ADC = np.zeros((n, 2))\n",
    "\n",
    "# random regression coefficients\n",
    "beta = 2*(np.random.rand(n)-0.5) * 20\n",
    "intercept = 2*(np.random.rand(n)-0.5) * 10\n",
    "\n",
    "for ix in range(n):\n",
    "    \n",
    "    # generate random data\n",
    "    X, y = generate_gaussian_data(n_samples=n, random_state=ix, n_features=5)\n",
    "    X_train, X_test, y_train, y_test = train_test_split(X, y, test_size=0.5)\n",
    "        \n",
    "    # linear regression\n",
    "    model = sklearn.linear_model.LinearRegression().fit(X_train, y_train)\n",
    "    yhat_train = model.predict(X_train)\n",
    "    yhat_test = model.predict(X_test)\n",
    "\n",
    "    ADC[ix, 0] = calculate_ADC(y_train, yhat_train)\n",
    "    ADC[ix, 1] = calculate_ADC(y_test, yhat_test)\n",
    "    \n",
    "df1 = pd.DataFrame({'ADC':ADC[:, 0]})\n",
    "df2 = pd.DataFrame({'ADC':ADC[:, 1]})\n",
    "\n",
    "df1['set'] = 'train'\n",
    "df2['set'] = 'test'\n",
    "\n",
    "df_ADC = pd.concat((df1, df2), axis=0)\n",
    "df_ADC['set'] = df_ADC['set'].astype('category')\n",
    "\n",
    "with sns.plotting_context(\"paper\", font_scale=2):  # notebook paper slides\n",
    "    sns.set_style(\"darkgrid\")\n",
    "\n",
    "    ax = sns.displot(x='ADC', hue=\"set\", rug=True, kind=\"kde\", multiple=\"layer\", \\\n",
    "                     height=4.5, aspect=1.25, data=df_ADC, legend=False, \\\n",
    "                    linewidth=6, palette=('gold', 'olive'))\n",
    "    ax.set_yticklabels('')\n",
    "    plt.legend(('train', 'test'))\n",
    "\n",
    "\n",
    "    plt.xlim([-1, 0.4])\n",
    "#     plt.legend(('Train', 'Test'))\n",
    "    plt.title('Distribution of ADC for train/test splits')\n",
    "    plt.savefig(figdir + 'Fig1_ADC_train_test.png', dpi=200)"
   ]
  },
  {
   "cell_type": "markdown",
   "metadata": {},
   "source": [
    "<a id=\"rr_correlation_ridge\"></a>\n",
    "## Response-residual correlation in ridge regression\n",
    "[back to top](#top)"
   ]
  },
  {
   "cell_type": "code",
   "execution_count": null,
   "metadata": {},
   "outputs": [],
   "source": [
    "use_intercept = True"
   ]
  },
  {
   "cell_type": "code",
   "execution_count": null,
   "metadata": {},
   "outputs": [],
   "source": [
    "# correlation as a function of ridge lambda\n",
    "lambda_vals = np.linspace(0, 100, 50)\n",
    "ridge_corrs = []\n",
    "# kernel ridge for different values of gamma \n",
    "gamma0 = [np.nan] # there's no value for lambda=0\n",
    "gamma1 = [np.nan] # there's no value for lambda=0\n",
    "gamma2 = [np.nan] # there's no value for lambda=0\n",
    "for l in lambda_vals:\n",
    "    # ridge \n",
    "    yhat, beta, H = ridge_solution(y, X, l=l, use_intercept=use_intercept)\n",
    "    ridge_corrs.append(np.corrcoef(y, y - yhat)[0,1])\n",
    "    # kernel ridge\n",
    "    if l>0:\n",
    "        yhat, K, H = kernel_ridge_solution(y, X, l=l, gamma=0.01)\n",
    "        gamma0.append(np.corrcoef(y, y - yhat)[0,1])\n",
    "        yhat, K, H = kernel_ridge_solution(y, X, l=l, gamma=0.1)\n",
    "        gamma1.append(np.corrcoef(y, y - yhat)[0,1])\n",
    "        yhat, K, H = kernel_ridge_solution(y, X, l=l, gamma=1)\n",
    "        gamma2.append(np.corrcoef(y, y - yhat)[0,1])\n",
    "\n",
    "kernel_ridge_corrs = np.concatenate((gamma0,gamma1,gamma2))\n",
    "\n",
    "plt.clf()\n",
    "fig = plt.figure(figsize=(8, 3))\n",
    "\n",
    "# ridge\n",
    "plt.subplot(121)\n",
    "plt.plot(lambda_vals, ridge_corrs,'.-')\n",
    "plt.xlabel('lambda')\n",
    "plt.ylabel('corr(y, e)')\n",
    "plt.title('Ridge regression')\n",
    "\n",
    "plt.text(10.2, ridge_corrs[0], 'linear regression solution')   \n",
    "plt.plot(0, ridge_corrs[0], 'og')   # mark linear regression point\n",
    "sns.despine()\n",
    "plt.grid()\n",
    "\n",
    "# kernel ridge\n",
    "plt.subplot(122)\n",
    "plt.plot(lambda_vals, kernel_ridge_corrs0,'.-')\n",
    "plt.plot(lambda_vals, kernel_ridge_corrs1,'.-')\n",
    "plt.plot(lambda_vals, kernel_ridge_corrs2,'.-')\n",
    "plt.xlabel('lambda')\n",
    "plt.ylabel('corr(y, e)')\n",
    "plt.legend([r'$\\gamma=0.01$', r'$\\gamma=0.1$', r'$\\gamma=1$'])\n",
    "plt.title('Kernel ridge regression')\n",
    "\n",
    "sns.despine()\n",
    "plt.grid()"
   ]
  },
  {
   "cell_type": "code",
   "execution_count": null,
   "metadata": {},
   "outputs": [],
   "source": [
    "df_ridge = pd.DataFrame({'lambda': lambda_vals, 'corr(y,e)': ridge_corrs})\n",
    "df_kernel_ridge = pd.DataFrame({'lambda': list(lambda_vals)*3, 'corr(y,e)': kernel_ridge_corrs, \\\n",
    "                               'gamma': ['0.01']*len(lambda_vals)+['0.1']*len(lambda_vals)+['1']*len(lambda_vals)})\n",
    "sns.set(style=\"ticks\")\n",
    "plt.clf()\n",
    "fig = plt.figure(figsize=(14, 4))\n",
    "\n",
    "with sns.plotting_context(\"notebook\", font_scale=1.3):\n",
    "    \n",
    "    plt.subplot(121)\n",
    "    # ridge lineplot\n",
    "    sns.lineplot(x=\"lambda\", y=\"corr(y,e)\", palette=\"tab20c\", marker=\"o\", data=df_ridge)\n",
    "    sns.despine()\n",
    "    plt.xlabel(r'$\\lambda$')\n",
    "\n",
    "    # mark linear regression solution\n",
    "    plt.text(5.2, ridge_corrs[0]*0.95, 'linear regression solution',{'color':'k'})   \n",
    "    plt.plot(0, ridge_corrs[0], 'ok')   # mark linear regression point\n",
    "    sns.despine()\n",
    "    plt.grid()\n",
    "    plt.ylim((0.01, 1))\n",
    "    plt.title('Ridge regression')\n",
    "    \n",
    "    # kernel ridge lineplot\n",
    "    plt.subplot(122)\n",
    "    sns.lineplot(x=\"lambda\", y=\"corr(y,e)\", hue='gamma', style='gamma', \\\n",
    "                 palette=sns.color_palette()[:3], marker=\"o\", data=df_kernel_ridge)\n",
    "    sns.despine()\n",
    "    plt.xlabel(r'$\\lambda$')\n",
    "    plt.ylim((0.01, 1))\n",
    "\n",
    "    # mark linear regression solution\n",
    "    sns.despine()\n",
    "    plt.grid()\n",
    "    plt.title('Kernel Ridge regression')"
   ]
  },
  {
   "cell_type": "code",
   "execution_count": null,
   "metadata": {},
   "outputs": [],
   "source": []
  },
  {
   "cell_type": "code",
   "execution_count": null,
   "metadata": {},
   "outputs": [],
   "source": [
    "df_kernel_ridge['gamma'].unique()"
   ]
  },
  {
   "cell_type": "markdown",
   "metadata": {},
   "source": [
    "### Zero correlation constraint"
   ]
  },
  {
   "cell_type": "code",
   "execution_count": null,
   "metadata": {},
   "outputs": [],
   "source": [
    "def scale_beta(beta, X, y):\n",
    "    '''Returns a scaled version of beta that has corr(y, y-yhat)=0'''\n",
    "    beta = beta.copy()\n",
    "    \n",
    "    # check whether there is an intercept\n",
    "    intercept_ix = None\n",
    "    if np.all(X[:, 0] == 1):\n",
    "        intercept_ix = 0\n",
    "    elif np.all(X[:, -1] == 1):\n",
    "        intercept_ix = X.shape[1]\n",
    "    else:\n",
    "        print('found no intercept')\n",
    "    \n",
    "    # calculate and apply correction factor\n",
    "    yc = y - y.mean()\n",
    "    yhat = X @ beta\n",
    "    yhat -= yhat.mean()\n",
    "    a = yc.dot(yc) / yhat.dot(yhat) \n",
    "    \n",
    "    # applt a to non-intercept elements of beta\n",
    "    beta_ix = np.setdiff1d(np.array(range(X.shape[1]), dtype=np.int), intercept_ix)\n",
    "    print('beta_ix', beta_ix)\n",
    "    beta[beta_ix] *= a\n",
    "\n",
    "    # fix intercept\n",
    "    if intercept_ix is not None:\n",
    "        mx = X[:, beta_ix].mean(axis=0)\n",
    "        beta[intercept_ix] = y.mean() - mx.dot(beta[beta_ix])\n",
    "    \n",
    "    return beta"
   ]
  },
  {
   "cell_type": "code",
   "execution_count": null,
   "metadata": {},
   "outputs": [],
   "source": [
    "beta2 = scale_beta(beta, X, y)"
   ]
  },
  {
   "cell_type": "code",
   "execution_count": null,
   "metadata": {},
   "outputs": [],
   "source": [
    "beta2, beta"
   ]
  },
  {
   "cell_type": "markdown",
   "metadata": {},
   "source": [
    "\n",
    "<a id=\"illustrate_bias\"></a>\n",
    "### Illustrate bias\n",
    "[back to top](#top)\n",
    "\n"
   ]
  },
  {
   "cell_type": "code",
   "execution_count": null,
   "metadata": {},
   "outputs": [],
   "source": [
    "e = y - X@beta\n",
    "e2 = y - X@beta2\n",
    "\n",
    "plt.subplot(121)\n",
    "plt.plot(y, X@beta, '.')\n",
    "plt.plot(plt.xlim(), plt.ylim(), '-')\n",
    "plt.title(f'no correction corr={np.corrcoef(y, e)[0,1]:1.4f}')\n",
    "\n",
    "plt.subplot(122)\n",
    "plt.plot(y, X@beta2, '.')\n",
    "plt.plot(plt.xlim(), plt.ylim(), '-')\n",
    "plt.title(f'with a={a:.4f} corr={np.corrcoef(y, e2)[0,1]:1.4f}')\n"
   ]
  },
  {
   "cell_type": "code",
   "execution_count": null,
   "metadata": {},
   "outputs": [],
   "source": [
    "e = y - X@beta\n",
    "e2 = y - X@beta2\n",
    "\n",
    "plt.subplot(121)\n",
    "plt.plot(y, y-X@beta, '.')\n",
    "plt.plot(plt.xlim(), [0,0], '-')\n",
    "plt.title(f'no correction corr={np.corrcoef(y, e)[0,1]:1.4f}')\n",
    "\n",
    "plt.subplot(122)\n",
    "plt.plot(y, y-X@beta2, '.')\n",
    "plt.plot(plt.xlim(), [0,0], '-')\n",
    "plt.title(f'with a={a:.4f} corr={np.corrcoef(y, e2)[0,1]:1.4f}')\n"
   ]
  },
  {
   "cell_type": "code",
   "execution_count": null,
   "metadata": {
    "scrolled": true
   },
   "outputs": [],
   "source": [
    "# plot correlation as a function of a\n",
    "yc = y - y.mean()\n",
    "yhatc = yhat - yhat.mean()\n",
    "a =  yc.dot(yc) / yhatc.dot(yhatc) \n",
    "e = yc - yhatc\n",
    "\n",
    "a_vals = np.linspace(a-1, a+1, 50)\n",
    "if use_intercept:\n",
    "    corrs = [np.corrcoef(y, y - yhat*a_tmp)[0,1] for a_tmp in a_vals]\n",
    "    # note: we can skip the intercept term since it doesn't affect the correlation\n",
    "#     corrs = [np.corrcoef(y, y - X[:, 1:]@beta[1:]*a_tmp)[0,1] for a_tmp in a_vals]\n",
    "else:\n",
    "    corrs = [np.corrcoef(y, y - X@beta*a_tmp)[0,1] for a_tmp in a_vals]\n",
    "\n",
    "plt.plot(a_vals, corrs)\n",
    "plt.xlabel('a values')\n",
    "plt.ylabel('corr(y, e)')\n",
    "plt.title('Residual correlation as a function of a')\n",
    "# plt.plot([a, a], plt.ylim(), 'r--')   # mark a \n",
    "plt.text(a*1.1, 0.01, 'a')\n",
    "plt.plot(a, 0, 'or')   # mark a \n",
    "\n",
    "plt.text(1.1, np.corrcoef(y,e)[0,1], 'original')\n",
    "plt.plot(1, np.corrcoef(y,e)[0,1], 'og')   # mark original point\n",
    "\n",
    "plt.plot(plt.xlim(), [0, 0], color='grey')\n",
    "plt.grid()\n"
   ]
  },
  {
   "cell_type": "code",
   "execution_count": null,
   "metadata": {},
   "outputs": [],
   "source": [
    "df = pd.DataFrame({'a': a_vals, 'corr(y,e)':corrs})\n",
    "sns.set(style=\"ticks\")\n",
    "plt.clf()\n",
    "\n",
    "with sns.plotting_context(\"notebook\", font_scale=1.5):\n",
    "    # lineplot\n",
    "    sns.lineplot(x=\"a\", y=\"corr(y,e)\", palette=\"tab20c\", marker=\"o\", data=df)\n",
    "    sns.despine()\n",
    "    plt.xlabel(r'a')\n",
    "#     plt.xlabel(r'value of a ($\\beta$ scale)')\n",
    "    plt.plot(plt.xlim(), [0, 0], '--', color='grey')\n",
    "\n",
    "    # mark original point\n",
    "    plt.text(1.1, np.corrcoef(y,e)[0,1], 'original (a=1)')\n",
    "    plt.plot(1, np.corrcoef(y,e)[0,1], 'og', markersize=10)\n",
    "\n",
    "    # mark zero correlation point\n",
    "    plt.text(a*1.1, 0.04, r'a = ' + f'{a:1.3f}')\n",
    "    plt.plot(a, 0, '*k', markersize=25)   # mark a \n",
    "\n",
    "\n",
    "    plt.grid()\n",
    "    plt.title('Zero correlation solution')\n"
   ]
  },
  {
   "cell_type": "markdown",
   "metadata": {},
   "source": [
    "<a id=\"pac2019\"></a>\n",
    "# Analyze PAC2019 competition data\n",
    "[back to top](#top)"
   ]
  },
  {
   "cell_type": "markdown",
   "metadata": {},
   "source": [
    "<a id=\"load_pac2019\"></a>\n",
    "##  Load PAC2019 data\n",
    "[back to top](#top)"
   ]
  },
  {
   "cell_type": "code",
   "execution_count": 4,
   "metadata": {},
   "outputs": [],
   "source": [
    "datadir = '/Users/matthiastreder/data/pac2019/kamen/'"
   ]
  },
  {
   "cell_type": "code",
   "execution_count": 5,
   "metadata": {},
   "outputs": [
    {
     "data": {
      "text/html": [
       "<div>\n",
       "<style scoped>\n",
       "    .dataframe tbody tr th:only-of-type {\n",
       "        vertical-align: middle;\n",
       "    }\n",
       "\n",
       "    .dataframe tbody tr th {\n",
       "        vertical-align: top;\n",
       "    }\n",
       "\n",
       "    .dataframe thead th {\n",
       "        text-align: right;\n",
       "    }\n",
       "</style>\n",
       "<table border=\"1\" class=\"dataframe\">\n",
       "  <thead>\n",
       "    <tr style=\"text-align: right;\">\n",
       "      <th></th>\n",
       "      <th>subject_ID</th>\n",
       "      <th>age</th>\n",
       "      <th>gender</th>\n",
       "      <th>site</th>\n",
       "      <th>genderNum</th>\n",
       "      <th>siteDummy_ 1</th>\n",
       "      <th>siteDummy_ 2</th>\n",
       "      <th>siteDummy_ 3</th>\n",
       "      <th>siteDummy_ 4</th>\n",
       "      <th>siteDummy_ 5</th>\n",
       "      <th>...</th>\n",
       "      <th>loadings_gmUnzip_68</th>\n",
       "      <th>loadings_gmUnzip_69</th>\n",
       "      <th>loadings_gmUnzip_70</th>\n",
       "      <th>loadings_gmUnzip_71</th>\n",
       "      <th>loadings_gmUnzip_72</th>\n",
       "      <th>loadings_gmUnzip_73</th>\n",
       "      <th>age2</th>\n",
       "      <th>ageXgen</th>\n",
       "      <th>gmTotal</th>\n",
       "      <th>wmTotal</th>\n",
       "    </tr>\n",
       "  </thead>\n",
       "  <tbody>\n",
       "    <tr>\n",
       "      <th>0</th>\n",
       "      <td>sub0</td>\n",
       "      <td>60.00</td>\n",
       "      <td>f</td>\n",
       "      <td>10</td>\n",
       "      <td>2</td>\n",
       "      <td>0</td>\n",
       "      <td>0</td>\n",
       "      <td>0</td>\n",
       "      <td>0</td>\n",
       "      <td>0</td>\n",
       "      <td>...</td>\n",
       "      <td>0.015229</td>\n",
       "      <td>0.010526</td>\n",
       "      <td>0.018120</td>\n",
       "      <td>0.006557</td>\n",
       "      <td>0.003358</td>\n",
       "      <td>0.002722</td>\n",
       "      <td>3600.0000</td>\n",
       "      <td>1.212106</td>\n",
       "      <td>179390.471300</td>\n",
       "      <td>179390.471300</td>\n",
       "    </tr>\n",
       "    <tr>\n",
       "      <th>1</th>\n",
       "      <td>sub1</td>\n",
       "      <td>26.00</td>\n",
       "      <td>f</td>\n",
       "      <td>0</td>\n",
       "      <td>2</td>\n",
       "      <td>1</td>\n",
       "      <td>0</td>\n",
       "      <td>0</td>\n",
       "      <td>0</td>\n",
       "      <td>0</td>\n",
       "      <td>...</td>\n",
       "      <td>0.012596</td>\n",
       "      <td>0.017615</td>\n",
       "      <td>0.019064</td>\n",
       "      <td>0.009075</td>\n",
       "      <td>0.006207</td>\n",
       "      <td>0.007706</td>\n",
       "      <td>676.0000</td>\n",
       "      <td>-0.471035</td>\n",
       "      <td>196946.867880</td>\n",
       "      <td>196946.867880</td>\n",
       "    </tr>\n",
       "    <tr>\n",
       "      <th>2</th>\n",
       "      <td>sub10</td>\n",
       "      <td>25.00</td>\n",
       "      <td>f</td>\n",
       "      <td>0</td>\n",
       "      <td>2</td>\n",
       "      <td>1</td>\n",
       "      <td>0</td>\n",
       "      <td>0</td>\n",
       "      <td>0</td>\n",
       "      <td>0</td>\n",
       "      <td>...</td>\n",
       "      <td>0.021659</td>\n",
       "      <td>0.017102</td>\n",
       "      <td>0.021116</td>\n",
       "      <td>0.010083</td>\n",
       "      <td>0.007247</td>\n",
       "      <td>0.004988</td>\n",
       "      <td>625.0000</td>\n",
       "      <td>-0.520539</td>\n",
       "      <td>207199.672627</td>\n",
       "      <td>207199.672627</td>\n",
       "    </tr>\n",
       "    <tr>\n",
       "      <th>3</th>\n",
       "      <td>sub100</td>\n",
       "      <td>81.00</td>\n",
       "      <td>m</td>\n",
       "      <td>14</td>\n",
       "      <td>1</td>\n",
       "      <td>0</td>\n",
       "      <td>0</td>\n",
       "      <td>0</td>\n",
       "      <td>0</td>\n",
       "      <td>0</td>\n",
       "      <td>...</td>\n",
       "      <td>0.017327</td>\n",
       "      <td>0.010702</td>\n",
       "      <td>0.024008</td>\n",
       "      <td>0.009889</td>\n",
       "      <td>0.000624</td>\n",
       "      <td>0.003492</td>\n",
       "      <td>6561.0000</td>\n",
       "      <td>-3.364767</td>\n",
       "      <td>161227.238218</td>\n",
       "      <td>161227.238218</td>\n",
       "    </tr>\n",
       "    <tr>\n",
       "      <th>4</th>\n",
       "      <td>sub1000</td>\n",
       "      <td>59.51</td>\n",
       "      <td>m</td>\n",
       "      <td>9</td>\n",
       "      <td>1</td>\n",
       "      <td>0</td>\n",
       "      <td>0</td>\n",
       "      <td>0</td>\n",
       "      <td>0</td>\n",
       "      <td>0</td>\n",
       "      <td>...</td>\n",
       "      <td>0.012289</td>\n",
       "      <td>0.008510</td>\n",
       "      <td>0.018521</td>\n",
       "      <td>0.005257</td>\n",
       "      <td>0.005146</td>\n",
       "      <td>0.003234</td>\n",
       "      <td>3541.4401</td>\n",
       "      <td>-1.771942</td>\n",
       "      <td>157482.540137</td>\n",
       "      <td>157482.540137</td>\n",
       "    </tr>\n",
       "  </tbody>\n",
       "</table>\n",
       "<p>5 rows × 211 columns</p>\n",
       "</div>"
      ],
      "text/plain": [
       "  subject_ID    age gender  site  genderNum  siteDummy_ 1  siteDummy_ 2  \\\n",
       "0       sub0  60.00      f    10          2             0             0   \n",
       "1       sub1  26.00      f     0          2             1             0   \n",
       "2      sub10  25.00      f     0          2             1             0   \n",
       "3     sub100  81.00      m    14          1             0             0   \n",
       "4    sub1000  59.51      m     9          1             0             0   \n",
       "\n",
       "   siteDummy_ 3  siteDummy_ 4  siteDummy_ 5  ...  loadings_gmUnzip_68  \\\n",
       "0             0             0             0  ...             0.015229   \n",
       "1             0             0             0  ...             0.012596   \n",
       "2             0             0             0  ...             0.021659   \n",
       "3             0             0             0  ...             0.017327   \n",
       "4             0             0             0  ...             0.012289   \n",
       "\n",
       "   loadings_gmUnzip_69  loadings_gmUnzip_70  loadings_gmUnzip_71  \\\n",
       "0             0.010526             0.018120             0.006557   \n",
       "1             0.017615             0.019064             0.009075   \n",
       "2             0.017102             0.021116             0.010083   \n",
       "3             0.010702             0.024008             0.009889   \n",
       "4             0.008510             0.018521             0.005257   \n",
       "\n",
       "   loadings_gmUnzip_72  loadings_gmUnzip_73       age2   ageXgen  \\\n",
       "0             0.003358             0.002722  3600.0000  1.212106   \n",
       "1             0.006207             0.007706   676.0000 -0.471035   \n",
       "2             0.007247             0.004988   625.0000 -0.520539   \n",
       "3             0.000624             0.003492  6561.0000 -3.364767   \n",
       "4             0.005146             0.003234  3541.4401 -1.771942   \n",
       "\n",
       "         gmTotal        wmTotal  \n",
       "0  179390.471300  179390.471300  \n",
       "1  196946.867880  196946.867880  \n",
       "2  207199.672627  207199.672627  \n",
       "3  161227.238218  161227.238218  \n",
       "4  157482.540137  157482.540137  \n",
       "\n",
       "[5 rows x 211 columns]"
      ]
     },
     "execution_count": 5,
     "metadata": {},
     "output_type": "execute_result"
    }
   ],
   "source": [
    "df = pd.read_csv(datadir + 'PAC2019_BrainAge_ICA.csv')\n",
    "df.head()"
   ]
  },
  {
   "cell_type": "code",
   "execution_count": 6,
   "metadata": {},
   "outputs": [
    {
     "name": "stdout",
     "output_type": "stream",
     "text": [
      "(2640, 172) (2640,)\n"
     ]
    }
   ],
   "source": [
    "# extract features and age\n",
    "feature_ix = [ix for ix, name in enumerate(df.columns) if name.startswith('loadings')]\n",
    "X = df.iloc[:, feature_ix].to_numpy()\n",
    "y = df['age'].to_numpy()\n",
    "print(X.shape, y.shape)"
   ]
  },
  {
   "cell_type": "markdown",
   "metadata": {},
   "source": [
    "<a id=\"analyze_pac2019\"></a>\n",
    "##  Analyze PAC2019 data\n",
    "[back to top](#top)\n",
    "\n",
    "Just define the models here. The actual analysis is performed in `run_regression_analysis.py`."
   ]
  },
  {
   "cell_type": "code",
   "execution_count": null,
   "metadata": {},
   "outputs": [],
   "source": [
    "X_train, X_test, y_train, y_test = sklearn.model_selection.train_test_split(X, y, test_size=0.2, random_state=11)\n",
    "print(X_train.shape, X_test.shape)"
   ]
  },
  {
   "cell_type": "code",
   "execution_count": null,
   "metadata": {},
   "outputs": [],
   "source": [
    "model = ccr.LinearRegression(correlation_bound=None).fit(X_train, y_train)\n",
    "print('Unconstrained:', model.calculate_residual_correlation(X_train, y_train), model.calculate_residual_correlation(X_test, y_test))\n",
    "\n",
    "model = ccr.LinearRegression(correlation_bound=0.05).fit(X_train, y_train)\n",
    "print('With bound:', model.calculate_residual_correlation(X_train, y_train), model.calculate_residual_correlation(X_test, y_test))"
   ]
  },
  {
   "cell_type": "code",
   "execution_count": null,
   "metadata": {},
   "outputs": [],
   "source": [
    "alpha = 0.1\n",
    "model = ccr.Ridge(alpha=alpha, correlation_bound=None).fit(X_train, y_train)\n",
    "print('Unconstrained:', model.calculate_residual_correlation(X_train, y_train), model.calculate_residual_correlation(X_test, y_test))\n",
    "\n",
    "model = ccr.Ridge(alpha=alpha, correlation_bound=0.05).fit(X_train, y_train)\n",
    "print('With bound:', model.calculate_residual_correlation(X_train, y_train), model.calculate_residual_correlation(X_test, y_test))"
   ]
  },
  {
   "cell_type": "code",
   "execution_count": null,
   "metadata": {},
   "outputs": [],
   "source": [
    "model = ccr.KernelRidge(correlation_bound=None).fit(X_train, y_train)\n",
    "print('Unconstrained:', model.calculate_residual_correlation(X_train, y_train), model.calculate_residual_correlation(X_test, y_test))\n",
    "\n",
    "model = ccr.KernelRidge(correlation_bound=0.05).fit(X_train, y_train)\n",
    "print('With bound:', model.calculate_residual_correlation(X_train, y_train), model.calculate_residual_correlation(X_test, y_test))"
   ]
  },
  {
   "cell_type": "markdown",
   "metadata": {},
   "source": [
    "<a id=\"results_pac2019\"></a>\n",
    "# PAC2019 results\n",
    "[back to top](#top)\n",
    "\n",
    "Plot results obtained with `run_regression_analysis.py`."
   ]
  },
  {
   "cell_type": "code",
   "execution_count": 74,
   "metadata": {},
   "outputs": [],
   "source": [
    "# data dimensions:\n",
    "# iterations x constraints (unconstrained,zero,bounded) x models (LinReg,ridge,KernelRidge) x Train/Test(Predict) phase\n",
    "times, mae, corrs = ft.load_pickle(resultsdir + 'regression_results_pac2019.pickle')\n",
    "# times, mae, corrs = ft.load_pickle(resultsdir + 'pac_data_analysis.pickle')"
   ]
  },
  {
   "cell_type": "code",
   "execution_count": 75,
   "metadata": {},
   "outputs": [
    {
     "data": {
      "text/plain": [
       "(100, 5, 3, 2)"
      ]
     },
     "execution_count": 75,
     "metadata": {},
     "output_type": "execute_result"
    }
   ],
   "source": [
    "mae.shape"
   ]
  },
  {
   "cell_type": "code",
   "execution_count": 76,
   "metadata": {},
   "outputs": [],
   "source": [
    "# convert ndarray into Pandas dataframes\n",
    "df_t = []\n",
    "df_m = []\n",
    "df_c = []\n",
    "time_data = ('Train', 'Predict')  # that what was timed\n",
    "constraints = ('Unconstrained', r'$\\rho=0$', r'$|\\rho|\\, ≤\\, 0.1$', r'$|\\rho|\\, ≤\\, 0.2$', r'$|\\rho|\\, ≤\\, 0.3$')\n",
    "for cx, constraint in enumerate(constraints):\n",
    "# for cx, constraint in enumerate(('Unconstrained', r'Zero correlation ($\\rho=0$)', r'Bounded correlation ($|\\rho|\\, ≤\\, 0.2$)')):\n",
    "    for mx, model in enumerate(('OLS', 'Ridge', 'KernelRidge')):\n",
    "        for px, data in enumerate(('Train', 'Test')):\n",
    "            \n",
    "            # remove first iteration from times since it seems to be an outlier\n",
    "            # (possibly affected by dynamic loading of packages etc)\n",
    "            tim = times[1:, cx, mx, px]\n",
    "            \n",
    "            if model == 'KernelRidge':\n",
    "                # for TimeMix: we measure KernelRidge time in [s] and the other models in [ms]\n",
    "                tmp_t = pd.DataFrame({'TimeMix':tim, 'TimeMs':tim*1000, 'Time':tim, 'Log Time':np.log(1+tim)})\n",
    "            else:\n",
    "                tmp_t = pd.DataFrame({'TimeMix':tim*1000, 'TimeMs':tim*1000, 'Time':tim, 'Log Time':np.log(1+tim)})\n",
    "            tmp_m = pd.DataFrame({'MAE':mae[:, cx, mx, px]})\n",
    "            tmp_c = pd.DataFrame({'ADC':-corrs[:, cx, mx, px]})\n",
    "\n",
    "            tmp_t['constraint'] = tmp_m['constraint'] = tmp_c['constraint'] = constraint\n",
    "            tmp_t['model'] = tmp_m['model'] = tmp_c['model'] = model\n",
    "            tmp_m['data'] = tmp_c['data'] = data\n",
    "            tmp_m['iteration'] = range(100)\n",
    "            tmp_t['data'] = time_data[px]\n",
    "\n",
    "            df_t.append(tmp_t)\n",
    "            df_m.append(tmp_m)\n",
    "            df_c.append(tmp_c)\n",
    "\n",
    "df_time = pd.concat(df_t, axis=0)\n",
    "df_mae = pd.concat(df_m, axis=0)\n",
    "df_corr = pd.concat(df_c, axis=0)\n",
    "\n",
    "df_mae.sort_values(by=['constraint', 'iteration'], inplace=True)"
   ]
  },
  {
   "cell_type": "code",
   "execution_count": 82,
   "metadata": {},
   "outputs": [
    {
     "data": {
      "image/png": "[encoded data removed]",
      "text/plain": [
       "<Figure size 2288.58x360 with 5 Axes>"
      ]
     },
     "metadata": {},
     "output_type": "display_data"
    },
    {
     "data": {
      "image/png": "[encoded data removed]",
      "text/plain": [
       "<Figure size 2288.58x360 with 5 Axes>"
      ]
     },
     "metadata": {},
     "output_type": "display_data"
    }
   ],
   "source": [
    "pal = \"YlOrBr\"\n",
    "pal2= \"YlOrRd\"\n",
    "with sns.plotting_context(\"paper\", font_scale=2.5):  # notebook paper slides\n",
    "    sns.set_style(\"darkgrid\")\n",
    "    \n",
    "    # MSE\n",
    "    g = sns.catplot(x=\"model\", y=\"MAE\",\n",
    "                    hue=\"data\", col=\"constraint\",\n",
    "                    data=df_mae,\n",
    "                    orient=\"v\", height=5, aspect=1.2, palette=pal,\n",
    "                    kind=\"bar\")\n",
    "    g.set_titles(\"{col_name}\")\n",
    "    g.set_axis_labels(\"\",\"\")\n",
    "#     g.set_axis_labels(\"\")\n",
    "    g.set_xticklabels(\"\")\n",
    "#     g.set_yticklabels(\"\")\n",
    "    plt.savefig(figdir + 'Fig_PAC_Results_MAE.png', dpi=200)\n",
    "    \n",
    "    # ADC\n",
    "    sns.set_style(\"darkgrid\")\n",
    "    g = sns.catplot(x=\"model\", y=\"ADC\",\n",
    "                    hue=\"data\", col=\"constraint\",\n",
    "                    data=df_corr, \n",
    "                    orient=\"v\", height=5, aspect=1.2, palette=pal2,\n",
    "                    kind=\"bar\")\n",
    "    g.set_titles(\"\")\n",
    "    g.set_axis_labels(\"\",\"\")\n",
    "#     g.set_yticklabels(\"\")\n",
    "    plt.savefig(figdir + 'Fig_PAC_Results_ADC.png', dpi=200)"
   ]
  },
  {
   "cell_type": "code",
   "execution_count": 13,
   "metadata": {},
   "outputs": [
    {
     "data": {
      "image/png": "[encoded data removed]",
      "text/plain": [
       "<Figure size 2307.83x360 with 5 Axes>"
      ]
     },
     "metadata": {},
     "output_type": "display_data"
    }
   ],
   "source": [
    "with sns.plotting_context(\"paper\", font_scale=2.5):  # notebook paper slides\n",
    "    sns.set_style(\"darkgrid\")\n",
    "    g = sns.catplot(x=\"model\", y=\"Time\",\n",
    "                    hue=\"data\", col=\"constraint\",\n",
    "                    data=df_time,\n",
    "                    orient=\"v\", height=5, aspect=1.2, palette=\"YlOrBr\",\n",
    "                    kind=\"bar\") #, dodge=False, cut=1, bw=3.2)\n",
    "    g.set_titles(\"{col_name}\")"
   ]
  },
  {
   "cell_type": "code",
   "execution_count": 14,
   "metadata": {},
   "outputs": [
    {
     "data": {
      "image/png": "[encoded data removed]",
      "text/plain": [
       "<Figure size 2288.58x360 with 5 Axes>"
      ]
     },
     "metadata": {},
     "output_type": "display_data"
    }
   ],
   "source": [
    "with sns.plotting_context(\"paper\", font_scale=2.5):  # notebook paper slides\n",
    "    sns.set_style(\"darkgrid\")\n",
    "    g = sns.catplot(x=\"model\", y=\"ADC\",\n",
    "                    hue=\"data\", col=\"constraint\",\n",
    "                    data=df_corr,\n",
    "                    orient=\"v\", height=5, aspect=1.2, palette=\"YlOrBr\",\n",
    "                    kind=\"box\")"
   ]
  },
  {
   "cell_type": "markdown",
   "metadata": {},
   "source": [
    "### Present timing results as pivot table"
   ]
  },
  {
   "cell_type": "code",
   "execution_count": 16,
   "metadata": {},
   "outputs": [],
   "source": [
    "# bring categories in right order\n",
    "df_time['constraint'] = df_time['constraint'].astype('category').cat.reorder_categories(constraints)\n",
    "df_time['model'] = df_time['model'].astype('category').cat.reorder_categories(('OLS', 'Ridge', 'KernelRidge'))\n",
    "df_time['data'] = df_time['data'].astype('category').cat.reorder_categories(('Train', 'Predict'))"
   ]
  },
  {
   "cell_type": "code",
   "execution_count": 17,
   "metadata": {},
   "outputs": [
    {
     "data": {
      "text/html": [
       "<div>\n",
       "<style scoped>\n",
       "    .dataframe tbody tr th:only-of-type {\n",
       "        vertical-align: middle;\n",
       "    }\n",
       "\n",
       "    .dataframe tbody tr th {\n",
       "        vertical-align: top;\n",
       "    }\n",
       "\n",
       "    .dataframe thead th {\n",
       "        text-align: right;\n",
       "    }\n",
       "</style>\n",
       "<table border=\"1\" class=\"dataframe\">\n",
       "  <thead>\n",
       "    <tr style=\"text-align: right;\">\n",
       "      <th></th>\n",
       "      <th>model</th>\n",
       "      <th>OLS</th>\n",
       "      <th>Ridge</th>\n",
       "      <th>KernelRidge</th>\n",
       "    </tr>\n",
       "    <tr>\n",
       "      <th>data</th>\n",
       "      <th>constraint</th>\n",
       "      <th></th>\n",
       "      <th></th>\n",
       "      <th></th>\n",
       "    </tr>\n",
       "  </thead>\n",
       "  <tbody>\n",
       "    <tr>\n",
       "      <th rowspan=\"5\" valign=\"top\">Train</th>\n",
       "      <th>Unconstrained</th>\n",
       "      <td>6.873372</td>\n",
       "      <td>69.739756</td>\n",
       "      <td>156.253231</td>\n",
       "    </tr>\n",
       "    <tr>\n",
       "      <th>$\\rho=0$</th>\n",
       "      <td>7.601844</td>\n",
       "      <td>85.993716</td>\n",
       "      <td>255.870365</td>\n",
       "    </tr>\n",
       "    <tr>\n",
       "      <th>$|\\rho|\\, ≤\\, 0.1$</th>\n",
       "      <td>7.586234</td>\n",
       "      <td>86.004792</td>\n",
       "      <td>256.867552</td>\n",
       "    </tr>\n",
       "    <tr>\n",
       "      <th>$|\\rho|\\, ≤\\, 0.2$</th>\n",
       "      <td>7.651907</td>\n",
       "      <td>86.626113</td>\n",
       "      <td>256.890076</td>\n",
       "    </tr>\n",
       "    <tr>\n",
       "      <th>$|\\rho|\\, ≤\\, 0.3$</th>\n",
       "      <td>7.594670</td>\n",
       "      <td>86.010605</td>\n",
       "      <td>255.684689</td>\n",
       "    </tr>\n",
       "    <tr>\n",
       "      <th rowspan=\"5\" valign=\"top\">Predict</th>\n",
       "      <th>Unconstrained</th>\n",
       "      <td>0.550566</td>\n",
       "      <td>0.512147</td>\n",
       "      <td>0.105630</td>\n",
       "    </tr>\n",
       "    <tr>\n",
       "      <th>$\\rho=0$</th>\n",
       "      <td>0.348277</td>\n",
       "      <td>0.372689</td>\n",
       "      <td>0.104926</td>\n",
       "    </tr>\n",
       "    <tr>\n",
       "      <th>$|\\rho|\\, ≤\\, 0.1$</th>\n",
       "      <td>0.346249</td>\n",
       "      <td>0.372923</td>\n",
       "      <td>0.106221</td>\n",
       "    </tr>\n",
       "    <tr>\n",
       "      <th>$|\\rho|\\, ≤\\, 0.2$</th>\n",
       "      <td>0.347282</td>\n",
       "      <td>0.376114</td>\n",
       "      <td>0.105102</td>\n",
       "    </tr>\n",
       "    <tr>\n",
       "      <th>$|\\rho|\\, ≤\\, 0.3$</th>\n",
       "      <td>0.345423</td>\n",
       "      <td>0.373657</td>\n",
       "      <td>0.105819</td>\n",
       "    </tr>\n",
       "  </tbody>\n",
       "</table>\n",
       "</div>"
      ],
      "text/plain": [
       "model                            OLS      Ridge  KernelRidge\n",
       "data    constraint                                          \n",
       "Train   Unconstrained       6.873372  69.739756   156.253231\n",
       "        $\\rho=0$            7.601844  85.993716   255.870365\n",
       "        $|\\rho|\\, ≤\\, 0.1$  7.586234  86.004792   256.867552\n",
       "        $|\\rho|\\, ≤\\, 0.2$  7.651907  86.626113   256.890076\n",
       "        $|\\rho|\\, ≤\\, 0.3$  7.594670  86.010605   255.684689\n",
       "Predict Unconstrained       0.550566   0.512147     0.105630\n",
       "        $\\rho=0$            0.348277   0.372689     0.104926\n",
       "        $|\\rho|\\, ≤\\, 0.1$  0.346249   0.372923     0.106221\n",
       "        $|\\rho|\\, ≤\\, 0.2$  0.347282   0.376114     0.105102\n",
       "        $|\\rho|\\, ≤\\, 0.3$  0.345423   0.373657     0.105819"
      ]
     },
     "execution_count": 17,
     "metadata": {},
     "output_type": "execute_result"
    }
   ],
   "source": [
    "pd.pivot_table(df_time, values='TimeMix', columns='model', index=('data', 'constraint',), \\\n",
    "        aggfunc=np.mean)"
   ]
  },
  {
   "cell_type": "code",
   "execution_count": 18,
   "metadata": {},
   "outputs": [
    {
     "data": {
      "text/html": [
       "<div>\n",
       "<style scoped>\n",
       "    .dataframe tbody tr th:only-of-type {\n",
       "        vertical-align: middle;\n",
       "    }\n",
       "\n",
       "    .dataframe tbody tr th {\n",
       "        vertical-align: top;\n",
       "    }\n",
       "\n",
       "    .dataframe thead tr th {\n",
       "        text-align: left;\n",
       "    }\n",
       "\n",
       "    .dataframe thead tr:last-of-type th {\n",
       "        text-align: right;\n",
       "    }\n",
       "</style>\n",
       "<table border=\"1\" class=\"dataframe\">\n",
       "  <thead>\n",
       "    <tr>\n",
       "      <th>data</th>\n",
       "      <th colspan=\"3\" halign=\"left\">Train</th>\n",
       "      <th colspan=\"3\" halign=\"left\">Predict</th>\n",
       "    </tr>\n",
       "    <tr>\n",
       "      <th>model</th>\n",
       "      <th>OLS</th>\n",
       "      <th>Ridge</th>\n",
       "      <th>KernelRidge</th>\n",
       "      <th>OLS</th>\n",
       "      <th>Ridge</th>\n",
       "      <th>KernelRidge</th>\n",
       "    </tr>\n",
       "    <tr>\n",
       "      <th>constraint</th>\n",
       "      <th></th>\n",
       "      <th></th>\n",
       "      <th></th>\n",
       "      <th></th>\n",
       "      <th></th>\n",
       "      <th></th>\n",
       "    </tr>\n",
       "  </thead>\n",
       "  <tbody>\n",
       "    <tr>\n",
       "      <th>Unconstrained</th>\n",
       "      <td>6.873372</td>\n",
       "      <td>69.739756</td>\n",
       "      <td>156.253231</td>\n",
       "      <td>0.550566</td>\n",
       "      <td>0.512147</td>\n",
       "      <td>0.105630</td>\n",
       "    </tr>\n",
       "    <tr>\n",
       "      <th>$\\rho=0$</th>\n",
       "      <td>7.601844</td>\n",
       "      <td>85.993716</td>\n",
       "      <td>255.870365</td>\n",
       "      <td>0.348277</td>\n",
       "      <td>0.372689</td>\n",
       "      <td>0.104926</td>\n",
       "    </tr>\n",
       "    <tr>\n",
       "      <th>$|\\rho|\\, ≤\\, 0.1$</th>\n",
       "      <td>7.586234</td>\n",
       "      <td>86.004792</td>\n",
       "      <td>256.867552</td>\n",
       "      <td>0.346249</td>\n",
       "      <td>0.372923</td>\n",
       "      <td>0.106221</td>\n",
       "    </tr>\n",
       "    <tr>\n",
       "      <th>$|\\rho|\\, ≤\\, 0.2$</th>\n",
       "      <td>7.651907</td>\n",
       "      <td>86.626113</td>\n",
       "      <td>256.890076</td>\n",
       "      <td>0.347282</td>\n",
       "      <td>0.376114</td>\n",
       "      <td>0.105102</td>\n",
       "    </tr>\n",
       "    <tr>\n",
       "      <th>$|\\rho|\\, ≤\\, 0.3$</th>\n",
       "      <td>7.594670</td>\n",
       "      <td>86.010605</td>\n",
       "      <td>255.684689</td>\n",
       "      <td>0.345423</td>\n",
       "      <td>0.373657</td>\n",
       "      <td>0.105819</td>\n",
       "    </tr>\n",
       "  </tbody>\n",
       "</table>\n",
       "</div>"
      ],
      "text/plain": [
       "data                   Train                          Predict            \\\n",
       "model                    OLS      Ridge KernelRidge       OLS     Ridge   \n",
       "constraint                                                                \n",
       "Unconstrained       6.873372  69.739756  156.253231  0.550566  0.512147   \n",
       "$\\rho=0$            7.601844  85.993716  255.870365  0.348277  0.372689   \n",
       "$|\\rho|\\, ≤\\, 0.1$  7.586234  86.004792  256.867552  0.346249  0.372923   \n",
       "$|\\rho|\\, ≤\\, 0.2$  7.651907  86.626113  256.890076  0.347282  0.376114   \n",
       "$|\\rho|\\, ≤\\, 0.3$  7.594670  86.010605  255.684689  0.345423  0.373657   \n",
       "\n",
       "data                            \n",
       "model              KernelRidge  \n",
       "constraint                      \n",
       "Unconstrained         0.105630  \n",
       "$\\rho=0$              0.104926  \n",
       "$|\\rho|\\, ≤\\, 0.1$    0.106221  \n",
       "$|\\rho|\\, ≤\\, 0.2$    0.105102  \n",
       "$|\\rho|\\, ≤\\, 0.3$    0.105819  "
      ]
     },
     "execution_count": 18,
     "metadata": {},
     "output_type": "execute_result"
    }
   ],
   "source": [
    "# different layout\n",
    "# MEAN time\n",
    "pv = pd.pivot_table(df_time, values='TimeMix', columns=('data','model'), index='constraint', \\\n",
    "        aggfunc=np.mean)\n",
    "pv"
   ]
  },
  {
   "cell_type": "code",
   "execution_count": 19,
   "metadata": {},
   "outputs": [
    {
     "name": "stdout",
     "output_type": "stream",
     "text": [
      "\\begin{tabular}{lrrrrrr}\n",
      "\\toprule\n",
      "data & \\multicolumn{3}{l}{Train} & \\multicolumn{3}{l}{Predict} \\\\\n",
      "model &   OLS & Ridge & KernelRidge &     OLS & Ridge & KernelRidge \\\\\n",
      "constraint         &       &       &             &         &       &             \\\\\n",
      "\\midrule\n",
      "Unconstrained      &  6.87 & 69.74 &      156.25 &    0.55 &  0.51 &        0.11 \\\\\n",
      "\\$\\textbackslash rho=0\\$           &  7.60 & 85.99 &      255.87 &    0.35 &  0.37 &        0.10 \\\\\n",
      "\\$|\\textbackslash rho|\\textbackslash , ≤\\textbackslash , 0.1\\$ &  7.59 & 86.00 &      256.87 &    0.35 &  0.37 &        0.11 \\\\\n",
      "\\$|\\textbackslash rho|\\textbackslash , ≤\\textbackslash , 0.2\\$ &  7.65 & 86.63 &      256.89 &    0.35 &  0.38 &        0.11 \\\\\n",
      "\\$|\\textbackslash rho|\\textbackslash , ≤\\textbackslash , 0.3\\$ &  7.59 & 86.01 &      255.68 &    0.35 &  0.37 &        0.11 \\\\\n",
      "\\bottomrule\n",
      "\\end{tabular}\n",
      "\n"
     ]
    }
   ],
   "source": [
    "print(pv.to_latex(float_format=\"%.2f\"))"
   ]
  },
  {
   "cell_type": "code",
   "execution_count": 21,
   "metadata": {
    "scrolled": true
   },
   "outputs": [
    {
     "data": {
      "text/html": [
       "<div>\n",
       "<style scoped>\n",
       "    .dataframe tbody tr th:only-of-type {\n",
       "        vertical-align: middle;\n",
       "    }\n",
       "\n",
       "    .dataframe tbody tr th {\n",
       "        vertical-align: top;\n",
       "    }\n",
       "\n",
       "    .dataframe thead tr th {\n",
       "        text-align: left;\n",
       "    }\n",
       "\n",
       "    .dataframe thead tr:last-of-type th {\n",
       "        text-align: right;\n",
       "    }\n",
       "</style>\n",
       "<table border=\"1\" class=\"dataframe\">\n",
       "  <thead>\n",
       "    <tr>\n",
       "      <th>data</th>\n",
       "      <th colspan=\"3\" halign=\"left\">Train</th>\n",
       "      <th colspan=\"3\" halign=\"left\">Predict</th>\n",
       "    </tr>\n",
       "    <tr>\n",
       "      <th>model</th>\n",
       "      <th>OLS</th>\n",
       "      <th>Ridge</th>\n",
       "      <th>KernelRidge</th>\n",
       "      <th>OLS</th>\n",
       "      <th>Ridge</th>\n",
       "      <th>KernelRidge</th>\n",
       "    </tr>\n",
       "    <tr>\n",
       "      <th>constraint</th>\n",
       "      <th></th>\n",
       "      <th></th>\n",
       "      <th></th>\n",
       "      <th></th>\n",
       "      <th></th>\n",
       "      <th></th>\n",
       "    </tr>\n",
       "  </thead>\n",
       "  <tbody>\n",
       "    <tr>\n",
       "      <th>Unconstrained</th>\n",
       "      <td>0.358852</td>\n",
       "      <td>3.050508</td>\n",
       "      <td>6.413342</td>\n",
       "      <td>0.017651</td>\n",
       "      <td>0.019564</td>\n",
       "      <td>0.007975</td>\n",
       "    </tr>\n",
       "    <tr>\n",
       "      <th>$\\rho=0$</th>\n",
       "      <td>0.414206</td>\n",
       "      <td>3.988540</td>\n",
       "      <td>7.594571</td>\n",
       "      <td>0.014771</td>\n",
       "      <td>0.016740</td>\n",
       "      <td>0.006189</td>\n",
       "    </tr>\n",
       "    <tr>\n",
       "      <th>$|\\rho|\\, ≤\\, 0.1$</th>\n",
       "      <td>0.325022</td>\n",
       "      <td>3.206198</td>\n",
       "      <td>9.810065</td>\n",
       "      <td>0.012687</td>\n",
       "      <td>0.014556</td>\n",
       "      <td>0.009209</td>\n",
       "    </tr>\n",
       "    <tr>\n",
       "      <th>$|\\rho|\\, ≤\\, 0.2$</th>\n",
       "      <td>0.452544</td>\n",
       "      <td>4.715076</td>\n",
       "      <td>9.958638</td>\n",
       "      <td>0.014762</td>\n",
       "      <td>0.019035</td>\n",
       "      <td>0.006146</td>\n",
       "    </tr>\n",
       "    <tr>\n",
       "      <th>$|\\rho|\\, ≤\\, 0.3$</th>\n",
       "      <td>0.281118</td>\n",
       "      <td>2.434453</td>\n",
       "      <td>6.917019</td>\n",
       "      <td>0.012522</td>\n",
       "      <td>0.014918</td>\n",
       "      <td>0.008189</td>\n",
       "    </tr>\n",
       "  </tbody>\n",
       "</table>\n",
       "</div>"
      ],
      "text/plain": [
       "data                   Train                         Predict            \\\n",
       "model                    OLS     Ridge KernelRidge       OLS     Ridge   \n",
       "constraint                                                               \n",
       "Unconstrained       0.358852  3.050508    6.413342  0.017651  0.019564   \n",
       "$\\rho=0$            0.414206  3.988540    7.594571  0.014771  0.016740   \n",
       "$|\\rho|\\, ≤\\, 0.1$  0.325022  3.206198    9.810065  0.012687  0.014556   \n",
       "$|\\rho|\\, ≤\\, 0.2$  0.452544  4.715076    9.958638  0.014762  0.019035   \n",
       "$|\\rho|\\, ≤\\, 0.3$  0.281118  2.434453    6.917019  0.012522  0.014918   \n",
       "\n",
       "data                            \n",
       "model              KernelRidge  \n",
       "constraint                      \n",
       "Unconstrained         0.007975  \n",
       "$\\rho=0$              0.006189  \n",
       "$|\\rho|\\, ≤\\, 0.1$    0.009209  \n",
       "$|\\rho|\\, ≤\\, 0.2$    0.006146  \n",
       "$|\\rho|\\, ≤\\, 0.3$    0.008189  "
      ]
     },
     "execution_count": 21,
     "metadata": {},
     "output_type": "execute_result"
    }
   ],
   "source": [
    "# STD time\n",
    "pv_std = pd.pivot_table(df_time, values='TimeMix', columns=('data','model'), index='constraint', \\\n",
    "        aggfunc=np.std)\n",
    "pv_std"
   ]
  },
  {
   "cell_type": "code",
   "execution_count": 22,
   "metadata": {},
   "outputs": [
    {
     "name": "stdout",
     "output_type": "stream",
     "text": [
      "\\begin{tabular}{lrrrrrr}\n",
      "\\toprule\n",
      "data & \\multicolumn{3}{l}{Train} & \\multicolumn{3}{l}{Predict} \\\\\n",
      "model &   OLS & Ridge & KernelRidge &     OLS & Ridge & KernelRidge \\\\\n",
      "constraint         &       &       &             &         &       &             \\\\\n",
      "\\midrule\n",
      "Unconstrained      &  0.36 &  3.05 &        6.41 &    0.02 &  0.02 &        0.01 \\\\\n",
      "\\$\\textbackslash rho=0\\$           &  0.41 &  3.99 &        7.59 &    0.01 &  0.02 &        0.01 \\\\\n",
      "\\$|\\textbackslash rho|\\textbackslash , ≤\\textbackslash , 0.1\\$ &  0.33 &  3.21 &        9.81 &    0.01 &  0.01 &        0.01 \\\\\n",
      "\\$|\\textbackslash rho|\\textbackslash , ≤\\textbackslash , 0.2\\$ &  0.45 &  4.72 &        9.96 &    0.01 &  0.02 &        0.01 \\\\\n",
      "\\$|\\textbackslash rho|\\textbackslash , ≤\\textbackslash , 0.3\\$ &  0.28 &  2.43 &        6.92 &    0.01 &  0.01 &        0.01 \\\\\n",
      "\\bottomrule\n",
      "\\end{tabular}\n",
      "\n"
     ]
    }
   ],
   "source": [
    "print(pv_std.to_latex(float_format=\"%.2f\"))"
   ]
  },
  {
   "cell_type": "markdown",
   "metadata": {},
   "source": [
    "### Statistical analysis of MAE results\n",
    "\n",
    "1. For each model (Linear, Ridge, Kernel Ridge) and each data (Train, Test) run a regression of MAE on $\\rho$.\n",
    "2. Compare MAE between unconstrained and constrained models using Wilcoxon signed rank test."
   ]
  },
  {
   "cell_type": "code",
   "execution_count": 88,
   "metadata": {},
   "outputs": [
    {
     "data": {
      "text/plain": [
       "100.50423068697276"
      ]
     },
     "execution_count": 88,
     "metadata": {},
     "output_type": "execute_result"
    }
   ],
   "source": [
    "5.258511/5.232129 * 100"
   ]
  },
  {
   "cell_type": "code",
   "execution_count": 83,
   "metadata": {},
   "outputs": [
    {
     "data": {
      "text/plain": [
       "data   model        constraint        \n",
       "Test   KernelRidge  $\\rho=0$              5.411747\n",
       "                    $|\\rho|\\, ≤\\, 0.1$    5.287335\n",
       "                    $|\\rho|\\, ≤\\, 0.2$    4.981352\n",
       "                    $|\\rho|\\, ≤\\, 0.3$    4.822875\n",
       "                    Unconstrained         4.825125\n",
       "       OLS          $\\rho=0$              5.612881\n",
       "                    $|\\rho|\\, ≤\\, 0.1$    5.447611\n",
       "                    $|\\rho|\\, ≤\\, 0.2$    5.331564\n",
       "                    $|\\rho|\\, ≤\\, 0.3$    5.258511\n",
       "                    Unconstrained         5.232129\n",
       "       Ridge        $\\rho=0$              5.626096\n",
       "                    $|\\rho|\\, ≤\\, 0.1$    5.453443\n",
       "                    $|\\rho|\\, ≤\\, 0.2$    5.335108\n",
       "                    $|\\rho|\\, ≤\\, 0.3$    5.262207\n",
       "                    Unconstrained         5.246881\n",
       "Train  KernelRidge  $\\rho=0$              1.860373\n",
       "                    $|\\rho|\\, ≤\\, 0.1$    3.639319\n",
       "                    $|\\rho|\\, ≤\\, 0.2$    3.469250\n",
       "                    $|\\rho|\\, ≤\\, 0.3$    3.276012\n",
       "                    Unconstrained         3.862722\n",
       "       OLS          $\\rho=0$              5.138439\n",
       "                    $|\\rho|\\, ≤\\, 0.1$    4.976021\n",
       "                    $|\\rho|\\, ≤\\, 0.2$    4.867428\n",
       "                    $|\\rho|\\, ≤\\, 0.3$    4.806063\n",
       "                    Unconstrained         4.791468\n",
       "       Ridge        $\\rho=0$              5.325406\n",
       "                    $|\\rho|\\, ≤\\, 0.1$    5.152195\n",
       "                    $|\\rho|\\, ≤\\, 0.2$    5.036405\n",
       "                    $|\\rho|\\, ≤\\, 0.3$    4.969875\n",
       "                    Unconstrained         4.967240\n",
       "Name: MAE, dtype: float64"
      ]
     },
     "execution_count": 83,
     "metadata": {},
     "output_type": "execute_result"
    }
   ],
   "source": [
    "df_mae.groupby(['data','model','constraint'])['MAE'].mean()"
   ]
  },
  {
   "cell_type": "code",
   "execution_count": 84,
   "metadata": {},
   "outputs": [],
   "source": [
    "import statsmodels.api as sm\n",
    "from scipy.stats import wilcoxon, ranksums\n",
    "\n",
    "# remove the unconstrained data and turn rho's into float\n",
    "mae = df_mae.copy()\n",
    "mae.constraint = mae.constraint.astype('category')\n",
    "mae['constraint'] = mae['constraint'].astype('category').cat.rename_categories([0, 0.1, 0.2, 0.3, -1]).astype('float')\n",
    "\n",
    "mae_train = mae[mae['data']=='Train']\n",
    "mae_test = mae[mae['data']=='Test']"
   ]
  },
  {
   "cell_type": "code",
   "execution_count": 85,
   "metadata": {},
   "outputs": [
    {
     "name": "stdout",
     "output_type": "stream",
     "text": [
      "OLS Train: beta=-1.11 p=0.0000\n",
      "OLS Test: beta=-1.18 p=0.0000\n",
      "Ridge Train: beta=-1.18 p=0.0000\n",
      "Ridge Test: beta=-1.21 p=0.0000\n",
      "KernelRidge Train: beta=4.08 p=0.0000\n",
      "KernelRidge Test: beta=-2.07 p=0.0000\n"
     ]
    }
   ],
   "source": [
    "# run regression and print p-value\n",
    "for mx, model in enumerate(('OLS', 'Ridge', 'KernelRidge')):\n",
    "    for px, data in enumerate(('Train', 'Test')):\n",
    "        fit = sm.OLS.from_formula('MAE ~ constraint', data=mae[(mae.constraint!=-1)&(mae.model==model)&(mae.data==data)]).fit()\n",
    "        print(f\"{model} {data}: beta={fit.params['constraint']:.2f} p={fit.pvalues['constraint']:.4f}\")"
   ]
  },
  {
   "cell_type": "code",
   "execution_count": 86,
   "metadata": {
    "scrolled": true
   },
   "outputs": [
    {
     "name": "stdout",
     "output_type": "stream",
     "text": [
      "MAE on Train vs Test data: WilcoxonResult(statistic=5101.0, pvalue=2.6117415995598185e-242)\n",
      "\n",
      " OLS \n",
      "----------\n",
      "Unconstrained vs rho=0: WilcoxonResult(statistic=0.0, pvalue=3.896559845095909e-18)\n",
      "Unconstrained vs rho=0.1: WilcoxonResult(statistic=1.0, pvalue=4.0161556854627e-18)\n",
      "Unconstrained vs rho=0.2: WilcoxonResult(statistic=26.0, pvalue=8.519072542858556e-18)\n",
      "Unconstrained vs rho=0.3: WilcoxonResult(statistic=274.0, pvalue=9.967579141863275e-15)\n",
      "\n",
      " Ridge \n",
      "----------\n",
      "Unconstrained vs rho=0: WilcoxonResult(statistic=0.0, pvalue=3.896559845095909e-18)\n",
      "Unconstrained vs rho=0.1: WilcoxonResult(statistic=14.0, pvalue=5.94331234302936e-18)\n",
      "Unconstrained vs rho=0.2: WilcoxonResult(statistic=290.0, pvalue=1.534086101076588e-14)\n",
      "Unconstrained vs rho=0.3: WilcoxonResult(statistic=1636.0, pvalue=0.002238099402043779)\n",
      "\n",
      " KernelRidge \n",
      "----------\n",
      "Unconstrained vs rho=0: WilcoxonResult(statistic=0.0, pvalue=3.896559845095909e-18)\n",
      "Unconstrained vs rho=0.1: WilcoxonResult(statistic=0.0, pvalue=3.896559845095909e-18)\n",
      "Unconstrained vs rho=0.2: WilcoxonResult(statistic=53.0, pvalue=1.903450784800175e-17)\n",
      "Unconstrained vs rho=0.3: WilcoxonResult(statistic=2421.0, pvalue=0.7206533187202941)\n"
     ]
    }
   ],
   "source": [
    "# Signed-rank tests on test data\n",
    "print('MAE on Train vs Test data:', wilcoxon(mae[mae['data']=='Train'].MAE, mae[mae['data']=='Test'].MAE))\n",
    "for mx, model in enumerate(('OLS', 'Ridge', 'KernelRidge')):\n",
    "    mae_model = mae_test[mae_test['model']==model]\n",
    "    print('\\n', model, '\\n----------')\n",
    "    print(f'Unconstrained vs rho=0:', wilcoxon(mae_model[mae_model['constraint']==-1].MAE, \\\n",
    "                                                        mae_model[mae_model['constraint']==0].MAE))\n",
    "    print(f'Unconstrained vs rho=0.1:', wilcoxon(mae_model[mae_model['constraint']==-1].MAE, \\\n",
    "                                                        mae_model[mae_model['constraint']==0.1].MAE))\n",
    "    print(f'Unconstrained vs rho=0.2:', wilcoxon(mae_model[mae_model['constraint']==-1].MAE, \\\n",
    "                                                        mae_model[mae_model['constraint']==0.2].MAE))\n",
    "    print(f'Unconstrained vs rho=0.3:', wilcoxon(mae_model[mae_model['constraint']==-1].MAE, \\\n",
    "                                                        mae_model[mae_model['constraint']==0.3].MAE))"
   ]
  },
  {
   "cell_type": "markdown",
   "metadata": {},
   "source": [
    "### Statistical analysis of ADC results\n",
    "\n",
    "1. For each model (Linear, Ridge, Kernel Ridge) and each data (Train, Test) run a regression of ADC on $\\rho$.\n",
    "2. Compare ADC between unconstrained and constrained models using Wilcoxon signed rank test."
   ]
  },
  {
   "cell_type": "code",
   "execution_count": 60,
   "metadata": {},
   "outputs": [
    {
     "data": {
      "text/plain": [
       "data   model        constraint        \n",
       "Test   KernelRidge  $\\rho=0$             -1.940492e-01\n",
       "                    $|\\rho|\\, ≤\\, 0.1$   -1.728196e-01\n",
       "                    $|\\rho|\\, ≤\\, 0.2$   -2.342252e-01\n",
       "                    $|\\rho|\\, ≤\\, 0.3$   -3.011724e-01\n",
       "                    Unconstrained        -3.742062e-01\n",
       "       OLS          $\\rho=0$             -2.990349e-02\n",
       "                    $|\\rho|\\, ≤\\, 0.1$   -1.202163e-01\n",
       "                    $|\\rho|\\, ≤\\, 0.2$   -2.102897e-01\n",
       "                    $|\\rho|\\, ≤\\, 0.3$   -3.006398e-01\n",
       "                    Unconstrained        -3.671701e-01\n",
       "       Ridge        $\\rho=0$             -2.576658e-02\n",
       "                    $|\\rho|\\, ≤\\, 0.1$   -1.199326e-01\n",
       "                    $|\\rho|\\, ≤\\, 0.2$   -2.137197e-01\n",
       "                    $|\\rho|\\, ≤\\, 0.3$   -3.074617e-01\n",
       "                    Unconstrained        -4.530759e-01\n",
       "Train  KernelRidge  $\\rho=0$             -6.371191e-14\n",
       "                    $|\\rho|\\, ≤\\, 0.1$   -1.000000e-01\n",
       "                    $|\\rho|\\, ≤\\, 0.2$   -2.000000e-01\n",
       "                    $|\\rho|\\, ≤\\, 0.3$   -3.000000e-01\n",
       "                    Unconstrained        -3.844427e-01\n",
       "       OLS          $\\rho=0$              2.390142e-17\n",
       "                    $|\\rho|\\, ≤\\, 0.1$   -1.000000e-01\n",
       "                    $|\\rho|\\, ≤\\, 0.2$   -2.000000e-01\n",
       "                    $|\\rho|\\, ≤\\, 0.3$   -3.000000e-01\n",
       "                    Unconstrained        -3.729129e-01\n",
       "       Ridge        $\\rho=0$             -2.239357e-17\n",
       "                    $|\\rho|\\, ≤\\, 0.1$   -1.000000e-01\n",
       "                    $|\\rho|\\, ≤\\, 0.2$   -2.000000e-01\n",
       "                    $|\\rho|\\, ≤\\, 0.3$   -3.000000e-01\n",
       "                    Unconstrained        -4.543640e-01\n",
       "Name: ADC, dtype: float64"
      ]
     },
     "execution_count": 60,
     "metadata": {},
     "output_type": "execute_result"
    }
   ],
   "source": [
    "df_corr.groupby(['data','model','constraint'])['ADC'].mean()"
   ]
  },
  {
   "cell_type": "code",
   "execution_count": 61,
   "metadata": {},
   "outputs": [],
   "source": [
    "import statsmodels.api as sm\n",
    "from scipy.stats import wilcoxon, ranksums\n",
    "\n",
    "# remove the unconstrained data and turn rho's into float\n",
    "corr = df_corr.copy()\n",
    "corr.constraint = corr.constraint.astype('category')\n",
    "corr['constraint'] = corr['constraint'].astype('category').cat.rename_categories([0, 0.1, 0.2, 0.3, -1]).astype('float')\n",
    "\n",
    "corr_train = corr[corr['data']=='Train']\n",
    "corr_test = corr[corr['data']=='Test']"
   ]
  },
  {
   "cell_type": "code",
   "execution_count": 67,
   "metadata": {},
   "outputs": [
    {
     "name": "stdout",
     "output_type": "stream",
     "text": [
      "OLS Train: beta=-1.00 p=0.0000\n",
      "OLS Test: beta=-0.90 p=0.0000\n",
      "Ridge Train: beta=-1.00 p=0.0000\n",
      "Ridge Test: beta=-0.94 p=0.0000\n",
      "KernelRidge Train: beta=-1.00 p=0.0000\n",
      "KernelRidge Test: beta=-0.38 p=0.0000\n"
     ]
    }
   ],
   "source": [
    "# run regression and print p-value\n",
    "for mx, model in enumerate(('OLS', 'Ridge', 'KernelRidge')):\n",
    "    for px, data in enumerate(('Train', 'Test')):\n",
    "        fit = sm.OLS.from_formula('ADC ~ constraint', data=corr[(corr.constraint!=-1)&(corr.model==model)&(corr.data==data)]).fit()\n",
    "        print(f\"{model} {data}: beta={fit.params['constraint']:.2f} p={fit.pvalues['constraint']:.4f}\")"
   ]
  },
  {
   "cell_type": "code",
   "execution_count": 66,
   "metadata": {},
   "outputs": [
    {
     "name": "stdout",
     "output_type": "stream",
     "text": [
      "ADC on Train vs Test data: WilcoxonResult(statistic=351017.0, pvalue=1.50921277164279e-36)\n",
      "\n",
      " OLS \n",
      "----------\n",
      "Unconstrained vs rho=0: WilcoxonResult(statistic=0.0, pvalue=3.896559845095909e-18)\n",
      "Unconstrained vs rho=0.1: WilcoxonResult(statistic=0.0, pvalue=3.896559845095909e-18)\n",
      "Unconstrained vs rho=0.2: WilcoxonResult(statistic=0.0, pvalue=3.896559845095909e-18)\n",
      "Unconstrained vs rho=0.3: WilcoxonResult(statistic=0.0, pvalue=3.896559845095909e-18)\n",
      "\n",
      " Ridge \n",
      "----------\n",
      "Unconstrained vs rho=0: WilcoxonResult(statistic=0.0, pvalue=3.896559845095909e-18)\n",
      "Unconstrained vs rho=0.1: WilcoxonResult(statistic=0.0, pvalue=3.896559845095909e-18)\n",
      "Unconstrained vs rho=0.2: WilcoxonResult(statistic=0.0, pvalue=3.896559845095909e-18)\n",
      "Unconstrained vs rho=0.3: WilcoxonResult(statistic=0.0, pvalue=3.896559845095909e-18)\n",
      "\n",
      " KernelRidge \n",
      "----------\n",
      "Unconstrained vs rho=0: WilcoxonResult(statistic=0.0, pvalue=3.896559845095909e-18)\n",
      "Unconstrained vs rho=0.1: WilcoxonResult(statistic=0.0, pvalue=3.896559845095909e-18)\n",
      "Unconstrained vs rho=0.2: WilcoxonResult(statistic=0.0, pvalue=3.896559845095909e-18)\n",
      "Unconstrained vs rho=0.3: WilcoxonResult(statistic=0.0, pvalue=3.896559845095909e-18)\n"
     ]
    }
   ],
   "source": [
    "# Signed-rank tests on test data\n",
    "print('ADC on Train vs Test data:', wilcoxon(corr_train.ADC, corr_test.ADC))\n",
    "for mx, model in enumerate(('OLS', 'Ridge', 'KernelRidge')):\n",
    "    corr_model = corr_test[corr_test['model']==model]\n",
    "    print('\\n', model, '\\n----------')\n",
    "    print(f'Unconstrained vs rho=0:', wilcoxon(corr_model[corr_model['constraint']==-1].ADC, \\\n",
    "                                                        corr_model[corr_model['constraint']==0].ADC))\n",
    "    print(f'Unconstrained vs rho=0.1:', wilcoxon(corr_model[corr_model['constraint']==-1].ADC, \\\n",
    "                                                        corr_model[corr_model['constraint']==0.1].ADC))\n",
    "    print(f'Unconstrained vs rho=0.2:', wilcoxon(corr_model[corr_model['constraint']==-1].ADC, \\\n",
    "                                                        corr_model[corr_model['constraint']==0.2].ADC))\n",
    "    print(f'Unconstrained vs rho=0.3:', wilcoxon(corr_model[corr_model['constraint']==-1].ADC, \\\n",
    "                                                        corr_model[corr_model['constraint']==0.3].ADC))"
   ]
  },
  {
   "cell_type": "markdown",
   "metadata": {},
   "source": [
    "<a id=\"other\"></a>\n",
    "# Other/old\n",
    "[back to top](#top)"
   ]
  },
  {
   "cell_type": "markdown",
   "metadata": {},
   "source": [
    "<a id=\"statsmodels\"></a>\n",
    "## Statsmodels\n",
    "[back to top](#top)"
   ]
  },
  {
   "cell_type": "code",
   "execution_count": null,
   "metadata": {},
   "outputs": [],
   "source": [
    "from statsmodels.regression.linear_model import OLS, OLSResults, RegressionResultsWrapper\n",
    "\n",
    "class OLSCC(OLS):\n",
    "    def __init__(self, endog, exog=None, missing='none', hasconst=None, rho=0,\n",
    "                 **kwargs):\n",
    "        super(OLSCC, self).__init__(endog, exog, missing=missing,\n",
    "                                  hasconst=hasconst, **kwargs)\n",
    "        if \"weights\" in self._init_keys:\n",
    "            self._init_keys.remove(\"weights\")\n",
    "        self.rho = rho\n",
    "        \n",
    "    def fit(self, method=\"pinv\", cov_type='nonrobust', cov_kwds=None,\n",
    "            use_t=None, **kwargs):\n",
    "        # see fit method in class RegressionModel in:\n",
    "        # https://github.com/statsmodels/statsmodels/blob/master/statsmodels/regression/linear_model.py\n",
    "        results = super().fit(method, cov_type, cov_kwds, use_t, **kwargs)\n",
    "\n",
    "        if self.rho is not None:\n",
    "            # scale beta to fulfill correlation constraint\n",
    "            X, y = self.exog, self.endog\n",
    "            beta = results.params\n",
    "            \n",
    "            # check whether there is an intercept\n",
    "            intercept_ix = None\n",
    "            if np.all(X[:, 0] == 1):\n",
    "                intercept_ix = 0\n",
    "            elif np.all(X[:, -1] == 1):\n",
    "                intercept_ix = X.shape[1]\n",
    "            elif not(np.all(np.isclose(y.mean(), 0)) and np.all(np.isclose(X.mean(axis=0), 0))):\n",
    "                raise ValueError('endog must contain an intercept term or predictors and responses need to be centered')\n",
    "\n",
    "            yc = y - y.mean()\n",
    "            yhat = results.fittedvalues - results.fittedvalues.mean()\n",
    "            if self.rho == 0:\n",
    "                # calculate correction factor a\n",
    "                a = yc.dot(yc) / yhat.dot(yhat) \n",
    "            else:\n",
    "                # set corr(y, y - yhat) to rho or -rho\n",
    "                y2 = yc.dot(yc)\n",
    "                yhat2 = yhat.dot(yhat)\n",
    "                yyhat = yc.dot(yhat)\n",
    "                rho2 = self.rho**2\n",
    "                c = yyhat**2 - rho2*y2*yhat2\n",
    "\n",
    "                # since we use a square to solve for a we get two solutions\n",
    "                # one gives us corr(y,e) = rho, the other corr(y,e) = -rho\n",
    "                a1 = y2 * yyhat * (1-rho2)/c - y2/c * np.sqrt( rho2 * (1-rho2) * (y2*yhat2 - yyhat**2))\n",
    "                a2 = y2 * yyhat * (1-rho2)/c + y2/c * np.sqrt( rho2 * (1-rho2) * (y2*yhat2 - yyhat**2))\n",
    "                a = a1\n",
    "\n",
    "            # applt a to non-intercept elements of beta\n",
    "            beta_ix = np.setdiff1d(np.array(range(X.shape[1]), dtype=np.int), intercept_ix)\n",
    "            beta[beta_ix] *= a\n",
    "\n",
    "            # fix intercept\n",
    "            if intercept_ix is not None:\n",
    "                mx = X[:, beta_ix].mean(axis=0)\n",
    "                beta[intercept_ix] = y.mean() - mx.dot(beta[beta_ix])\n",
    "\n",
    "            lfit = OLSResults(\n",
    "                self, beta,\n",
    "                normalized_cov_params=self.normalized_cov_params,\n",
    "                cov_type=cov_type, cov_kwds=cov_kwds, use_t=use_t)\n",
    "            \n",
    "            results = RegressionResultsWrapper(lfit)\n",
    "            results.a = a\n",
    "            \n",
    "        return results"
   ]
  },
  {
   "cell_type": "code",
   "execution_count": null,
   "metadata": {},
   "outputs": [],
   "source": [
    "model = sm.OLS(y, X).fit()\n",
    "model_cc = OLSCC(y, X, rho=0.01).fit()"
   ]
  },
  {
   "cell_type": "code",
   "execution_count": null,
   "metadata": {},
   "outputs": [],
   "source": [
    "model_cc.params"
   ]
  },
  {
   "cell_type": "code",
   "execution_count": null,
   "metadata": {},
   "outputs": [],
   "source": [
    "np.corrcoef(y, y-model.fittedvalues)[0,1]"
   ]
  },
  {
   "cell_type": "code",
   "execution_count": null,
   "metadata": {},
   "outputs": [],
   "source": [
    "np.corrcoef(y, y-model_cc.fittedvalues)[0,1]"
   ]
  },
  {
   "cell_type": "code",
   "execution_count": null,
   "metadata": {},
   "outputs": [],
   "source": [
    "model.summary()"
   ]
  },
  {
   "cell_type": "code",
   "execution_count": null,
   "metadata": {},
   "outputs": [],
   "source": [
    "model_cc.summary()"
   ]
  },
  {
   "cell_type": "code",
   "execution_count": null,
   "metadata": {},
   "outputs": [],
   "source": [
    "# plot y against e\n",
    "plt.subplot(121)\n",
    "plt.plot(y, model.fittedvalues, '.')\n",
    "plt.plot(plt.xlim(), plt.ylim(), '-')\n",
    "plt.title(f'OLS corr={np.corrcoef(y, model.resid)[0,1]:1.4f}')\n",
    "\n",
    "plt.subplot(122)\n",
    "# plt.plot(y, model_cc.fittedvalues, '.')\n",
    "plt.plot(y, y - model_cc.resid, '.')\n",
    "plt.plot(plt.xlim(), plt.ylim(), '-')\n",
    "plt.title(f'OLSCC with a={model_cc.a:.4f} corr={np.corrcoef(y, model_cc.resid)[0,1]:1.4f}')"
   ]
  },
  {
   "cell_type": "code",
   "execution_count": null,
   "metadata": {},
   "outputs": [],
   "source": [
    "# only plot e\n",
    "fig = plt.figure(figsize=(8, 3))\n",
    "plt.subplot(121)\n",
    "plt.plot(model.resid)\n",
    "plt.plot(plt.xlim(), [0,0], '-')\n",
    "plt.title('OLS')\n",
    "\n",
    "plt.subplot(122)\n",
    "plt.plot(model_cc.resid)\n",
    "plt.plot(plt.xlim(), [0,0], '-')\n",
    "plt.title('OLSCC')\n"
   ]
  },
  {
   "cell_type": "code",
   "execution_count": null,
   "metadata": {},
   "outputs": [],
   "source": [
    "model_cc.a"
   ]
  },
  {
   "cell_type": "code",
   "execution_count": null,
   "metadata": {},
   "outputs": [],
   "source": [
    "# y - model.fittedvalues\n",
    "model.resid_pearson"
   ]
  },
  {
   "cell_type": "markdown",
   "metadata": {},
   "source": [
    "<a id=\"calc_inequality\"></a>\n",
    "### Numerically check derivation for bounded correlation constraint\n",
    "\n",
    "[back to top](#top)"
   ]
  },
  {
   "cell_type": "code",
   "execution_count": null,
   "metadata": {},
   "outputs": [],
   "source": [
    "from numpy.linalg import norm\n",
    "ny = norm(y)**2\n",
    "nyhat = norm(yhat)**2\n",
    "rho2 = 0.1**2\n",
    "a = 1.1\n",
    "a2 = a*a\n",
    "yyhat = y.dot(yhat)\n",
    "# start\n",
    "\n",
    "(y.dot(y) - y.dot(a*yhat))**2 - rho2* (norm(y)*norm(y-a*yhat))**2"
   ]
  },
  {
   "cell_type": "code",
   "execution_count": null,
   "metadata": {},
   "outputs": [],
   "source": [
    "ny**2 - 2*a*ny*y.dot(yhat) + a2*(y.dot(yhat))**2 - rho2 * ny * norm(y-a*yhat)**2\n",
    "ny**2 - 2*a*ny*y.dot(yhat) + a2*(y.dot(yhat))**2 - rho2 * ny * (ny-2*a*y.dot(yhat)+a2*nyhat)"
   ]
  },
  {
   "cell_type": "code",
   "execution_count": null,
   "metadata": {},
   "outputs": [],
   "source": [
    "# (II)\n",
    "# a2* (yyhat)**2 - a2*rho2*ny*nyhat - 2*a*ny*yyhat + 2*a*rho2*ny*yyhat + ny**2 - rho2*ny**2\n",
    "(a2* (yyhat**2 - rho2*ny*nyhat) - 2*a*ny*yyhat * (1-rho2) + ny**2 * (1-rho2))"
   ]
  },
  {
   "cell_type": "code",
   "execution_count": null,
   "metadata": {},
   "outputs": [],
   "source": [
    "# (IV)\n",
    "c = y.dot(yhat)**2 - rho2 * y.dot(y) * yhat.dot(yhat)\n",
    "print(c)\n",
    "\n",
    "print(a2 - 2*a*ny*yyhat * (1-rho2)/c + ny**2 * (1-rho2)/c )"
   ]
  },
  {
   "cell_type": "code",
   "execution_count": null,
   "metadata": {},
   "outputs": [],
   "source": [
    "# (V)\n",
    "np.sqrt((a - ny * yyhat *(1-rho2)/c)**2 - ny**2 * yyhat**2 * (1-rho2)**2 / c**2 + ny**2 * (1-rho2)/c)"
   ]
  },
  {
   "cell_type": "code",
   "execution_count": null,
   "metadata": {},
   "outputs": [],
   "source": [
    "# solution\n",
    "a1 = ny * yyhat * (1-rho**2)/c   + ny/c * np.sqrt( rho2 * (1-rho2) * (ny*nyhat - yyhat))\n",
    "a2 = ny * yyhat * (1-rho**2)/c   - ny/c * np.sqrt( rho2 * (1-rho2) * (ny*nyhat - yyhat))\n",
    "print(a1, a2)"
   ]
  },
  {
   "cell_type": "code",
   "execution_count": null,
   "metadata": {},
   "outputs": [],
   "source": [
    "H = X @ inv(X.T@X + 1*np.eye(X.shape[1])) @ X.T \n",
    "beta = inv(X.T@X) @ X.T @ y\n",
    "yhat = X@beta\n",
    "print(beta)"
   ]
  },
  {
   "cell_type": "markdown",
   "metadata": {},
   "source": [
    "## ---"
   ]
  },
  {
   "cell_type": "code",
   "execution_count": null,
   "metadata": {},
   "outputs": [],
   "source": [
    "def calc_a(y, yhat, rho):\n",
    "    y2 = y.dot(y)\n",
    "    yhat2 = yhat.dot(yhat)\n",
    "    yyhat = y.dot(yhat)\n",
    "    rho2 = rho**2\n",
    "    \n",
    "    c = yyhat**2 - rho2*y2*yhat2\n",
    "\n",
    "    # since we use a square to solve for a we get two solutions\n",
    "    # one gives us corr(y,e) = rho, the other corr(y,e) = -rho\n",
    "    a1 = y2 * yyhat * (1-rho2)/c   - y2/c * np.sqrt( rho2 * (1-rho2) * (y2*yhat2 - yyhat**2))\n",
    "    a2 = y2 * yyhat * (1-rho2)/c   + y2/c * np.sqrt( rho2 * (1-rho2) * (y2*yhat2 - yyhat**2))\n",
    "    return a1, a2"
   ]
  },
  {
   "cell_type": "code",
   "execution_count": null,
   "metadata": {},
   "outputs": [],
   "source": [
    "a1, a2 = calc_a(yc, yhatc, 0.3)\n",
    "print(a1, a2, a)\n",
    "np.corrcoef(yc, yc-yhatc*a1)[0,1], np.corrcoef(yc, yc-yhatc*a2)[0,1], np.corrcoef(yc, yc-yhatc*a)[0,1]"
   ]
  },
  {
   "cell_type": "code",
   "execution_count": null,
   "metadata": {},
   "outputs": [],
   "source": [
    "# set correlation = 0.1\n",
    "a = 1.108967246216836621\n",
    "np.corrcoef(yc, yc-yhatc*a)[0,1]"
   ]
  },
  {
   "cell_type": "code",
   "execution_count": null,
   "metadata": {},
   "outputs": [],
   "source": [
    "y2 = yc.dot(yc)\n",
    "yhat2 = yhatc.dot(yhatc)\n",
    "yyhat = yc.dot(yhatc)\n",
    "rho2 = rho**2\n",
    "a2 = a**2\n",
    "e = yc-yhatc*a"
   ]
  },
  {
   "cell_type": "code",
   "execution_count": null,
   "metadata": {},
   "outputs": [],
   "source": [
    "yc.dot(e)/(np.sqrt(yc.dot(yc)*x.dot(x)))"
   ]
  },
  {
   "cell_type": "code",
   "execution_count": null,
   "metadata": {},
   "outputs": [],
   "source": [
    "# try to check the derivation of the formula : to this end a has been set, \n",
    "# the result of every line should be close to 0\n",
    "# correlation formula\n",
    "(y2 - yyhat * a) - rho * (np.sqrt(y2 * e.dot(e)))"
   ]
  },
  {
   "cell_type": "code",
   "execution_count": null,
   "metadata": {},
   "outputs": [],
   "source": [
    "# after squaring and resolving some brackets\n",
    "y2**2 - 2*a*y2*yyhat + a2*yyhat**2 - rho2 * y2 * (y2 - 2*a*yyhat + a2*yhat2)\n",
    "# y2**2 - 2*a*y2*yyhat + a2*yyhat**2 - rho2 * y2 * e.dot(e)"
   ]
  },
  {
   "cell_type": "code",
   "execution_count": null,
   "metadata": {},
   "outputs": [],
   "source": [
    "# bringing it one one side\n",
    "a**2 * (yyhat**2 - rho2 * y2 * yhat2) - 2*a*y2*yyhat*(1-rho2) + y2**2*(1-rho2)"
   ]
  },
  {
   "cell_type": "code",
   "execution_count": null,
   "metadata": {},
   "outputs": [],
   "source": [
    "# dividing by c\n",
    "c = yyhat**2 - rho2 * y2 * yhat2\n",
    "(a**2 - 2*a*y2*yyhat*(1-rho2)/c + y2**2*(1-rho2)/c)*c"
   ]
  },
  {
   "cell_type": "code",
   "execution_count": null,
   "metadata": {},
   "outputs": [],
   "source": [
    "# quadratische ergaenzung\n",
    "(a - y2*yyhat*(1-rho2)/c)**2 + y2**2*(1-rho2)/c - y2**2 * yyhat**2 * (1-rho2)**2/(c**2)"
   ]
  },
  {
   "cell_type": "code",
   "execution_count": null,
   "metadata": {},
   "outputs": [],
   "source": [
    "# quadratische ergaenzung\n",
    "(a - y2*yyhat*(1-rho2)/c)**2 - y2**2/(c**2) * (rho2 * (1-rho2) * (y2*yhat2 - yyhat**2))"
   ]
  },
  {
   "cell_type": "code",
   "execution_count": null,
   "metadata": {},
   "outputs": [],
   "source": [
    "# double-check limited correlation constraint\n",
    "np.corrcoef(yc, yc - yhatc*a1)[0,1], np.corrcoef(yc, yc - yhatc*a2)[0,1]"
   ]
  },
  {
   "cell_type": "markdown",
   "metadata": {},
   "source": [
    "\n",
    "<a id=\"iris_example\"></a>\n",
    "### Iris example data\n",
    "[back to top](#top)\n"
   ]
  },
  {
   "cell_type": "code",
   "execution_count": null,
   "metadata": {},
   "outputs": [],
   "source": [
    "iris = sns.load_dataset(\"iris\")\n",
    "iris.iloc[:, :4] += [1,2,3,-10]\n",
    "iris.head()"
   ]
  },
  {
   "cell_type": "code",
   "execution_count": null,
   "metadata": {},
   "outputs": [],
   "source": [
    "X = iris.iloc[:, :3].to_numpy().copy()\n",
    "y = iris.iloc[:, -2].to_numpy().copy()\n",
    "y.mean()"
   ]
  },
  {
   "cell_type": "code",
   "execution_count": null,
   "metadata": {},
   "outputs": [],
   "source": [
    "inv(X.T@X)"
   ]
  },
  {
   "cell_type": "code",
   "execution_count": null,
   "metadata": {},
   "outputs": [],
   "source": [
    "Xm = X - X.mean(axis=0)\n",
    "Xm.T @ Xm"
   ]
  },
  {
   "cell_type": "code",
   "execution_count": null,
   "metadata": {},
   "outputs": [],
   "source": [
    "mx = np.expand_dims(X.mean(axis=0),-1)\n",
    "\n",
    "X.T @ X - X.shape[0] *mx @ mx.T"
   ]
  },
  {
   "cell_type": "code",
   "execution_count": null,
   "metadata": {},
   "outputs": [],
   "source": [
    "use_intercept = True\n",
    "# use_intercept = False\n",
    "\n",
    "if use_intercept:\n",
    "    # add constant\n",
    "    print('Adding constant term to X')\n",
    "    X = sm.add_constant(X)\n",
    "#     print(X[:8, :])\n",
    "else:\n",
    "    # center X and y\n",
    "    print('Centering X and y')\n",
    "    X -= X.mean(axis=0)\n",
    "    y -= y.mean()"
   ]
  },
  {
   "cell_type": "code",
   "execution_count": null,
   "metadata": {},
   "outputs": [],
   "source": [
    "yhat, beta, H = OLS_solution(y, X)\n",
    "\n",
    "print(beta)\n",
    "print(f'OLS corr(y,e): {np.corrcoef(y,y-yhat)[0,1]:.4f}')"
   ]
  },
  {
   "cell_type": "code",
   "execution_count": null,
   "metadata": {},
   "outputs": [],
   "source": [
    "yhat, beta, H = ridge_solution(y, X, l=.1, use_intercept=use_intercept)\n",
    "print(beta)\n",
    "print(f'Ridge corr(y,e): {np.corrcoef(y,y-yhat)[0,1]:.4f}')"
   ]
  },
  {
   "cell_type": "code",
   "execution_count": null,
   "metadata": {},
   "outputs": [],
   "source": [
    "yhat, beta, H = ridge_solution(y, X, l=0.1, use_intercept=use_intercept)\n",
    "print(beta)"
   ]
  },
  {
   "cell_type": "code",
   "execution_count": null,
   "metadata": {},
   "outputs": [],
   "source": [
    "yhat, K, H = kernel_ridge_solution(y, X, l=0.1, gamma=.1)\n",
    "print(beta)\n",
    "print(f'Kernel Ridge corr(y,e): {np.corrcoef(y,y-yhat)[0,1]:.4f}')"
   ]
  }
 ],
 "metadata": {
  "kernelspec": {
   "display_name": "Python 3",
   "language": "python",
   "name": "python3"
  },
  "language_info": {
   "codemirror_mode": {
    "name": "ipython",
    "version": 3
   },
   "file_extension": ".py",
   "mimetype": "text/x-python",
   "name": "python",
   "nbconvert_exporter": "python",
   "pygments_lexer": "ipython3",
   "version": "3.6.12"
  }
 },
 "nbformat": 4,
 "nbformat_minor": 2
}
